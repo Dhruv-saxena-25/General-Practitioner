{
 "cells": [
  {
   "cell_type": "code",
   "execution_count": 6,
   "metadata": {},
   "outputs": [],
   "source": [
    "# We will be using these PDF loaders but you can check out other loaded documents\n",
    "from langchain_community.document_loaders import PyMuPDFLoader"
   ]
  },
  {
   "cell_type": "code",
   "execution_count": 7,
   "metadata": {},
   "outputs": [],
   "source": [
    "# This loader uses PyMuPDF\n",
    "loader_py = PyMuPDFLoader(\"../uploads\\\\7210843.pdf\")"
   ]
  },
  {
   "cell_type": "code",
   "execution_count": 8,
   "metadata": {},
   "outputs": [],
   "source": [
    "pages_py = loader_py.load()"
   ]
  },
  {
   "cell_type": "code",
   "execution_count": 9,
   "metadata": {},
   "outputs": [
    {
     "data": {
      "text/plain": [
       "19"
      ]
     },
     "execution_count": 9,
     "metadata": {},
     "output_type": "execute_result"
    }
   ],
   "source": [
    "len(pages_py)"
   ]
  },
  {
   "cell_type": "code",
   "execution_count": 10,
   "metadata": {},
   "outputs": [
    {
     "name": "stdout",
     "output_type": "stream",
     "text": [
      "[Document(metadata={'source': '../uploads\\\\7210843.pdf', 'file_path': '../uploads\\\\7210843.pdf', 'page': 0, 'total_pages': 19, 'format': 'PDF 1.4', 'title': '', 'author': '', 'subject': '', 'keywords': '', 'creator': '', 'producer': 'iTextSharp™ 5.5.13.2 ©2000-2020 iText Group NV (AGPL-version)', 'creationDate': \"D:20211231212940+05'30'\", 'modDate': \"D:20211231212940+05'30'\", 'trapped': ''}, page_content='Thyrocare,\\n5CA-711, 3rd Floor,\\nHRBR 2nd Block,\\nHennur, Bengaluru-560043\\nPROCESSED AT :\\nNAME\\n \\nSELF\\nVIVEK  BARNWAL(32Y/M)\\nREF. BY\\nTEST ASKED\\nAAROGYAM 1.3\\n:\\n:\\n:\\nFLAT NO - B-106 TRIFECTA STARLIGHT APARTMENT \\nGARUDCHARPALYA MAHADEVPURA 560048\\nPATIENTID\\n: VB18181374\\nHOME COLLECTION :\\nTEST NAME\\nUNITS\\nVALUE\\nTECHNOLOGY \\nCYSTATIN C\\nIMMUNOTURBIDIMETRY\\nmg/L\\n 0.83\\nReference Range :-\\n<= 60 years: <= 1.03 mg/L\\n> 60 years : < 1.50 mg/L\\nClinical significance\\nCystatin c, is a small 13-kda protein and is a member of the cysteine proteinase inhibitor family, it is produced at a constant rate by all \\nnucleated cells. Due to its small size it is freely filtered by the glomerulus and is not secreted but is fully reabsorbed and broken down \\nby the renal tubules. This means that the primary determinate of blood Cystatin c levels is the rate at which it is filtered at the \\nglomerulus making it an excellent gfr marker. Cystatin c is also a marker of inflammation and like many other markers of \\ninflammation; its serum concentration may be higher in patients with decreased renal clearance. There is mounting evidence, however, \\nthat Cystatin c may be a predictor of adverse outcomes independent of renal function with its higher sensitivity to detect a reduced \\nGFR than Creatinine determination, also in the so-called “Creatinine-blind” range. Thus, Cystatin c is suggested to be a better marker \\nfor GFR than the ubiquitous serum Creatinine.\\nReference\\n1. Barrett aj, Davies me, Grubb a. the place of human gamma-trace (Cystatin c) among the cysteine proteinase inhibitors. Biochem \\nbiophys res common 1984; 120: 631-6.\\n2. Grubb a. diagnostic value of analysis of Cystatin c and protein HC in biological fluids. Clin Nephrol 1992; 38: S20-7.\\nPlease correlate with clinical conditions.\\nMethod:-\\nLATEX ENHANCED IMMUNOTURBIDIMETRY\\nSERUM\\n31 Dec 2021 18:15\\n31 Dec 2021 14:17\\n:\\n:\\n:\\n:\\nSample Type\\nReport  Released on (RRT)\\nSample Received on (SRT)\\nX3673282\\n:\\nBarcode\\n: 3112070884/DS318\\nLabcode\\nPage : 1 of 19\\nDr.Prachi Sinkar MD(Path)\\nDr.Caesar Sengupta MD(Micro)\\nSample Collected on (SCT)\\n31 Dec 2021 10:40\\n'), Document(metadata={'source': '../uploads\\\\7210843.pdf', 'file_path': '../uploads\\\\7210843.pdf', 'page': 1, 'total_pages': 19, 'format': 'PDF 1.4', 'title': '', 'author': '', 'subject': '', 'keywords': '', 'creator': '', 'producer': 'iTextSharp™ 5.5.13.2 ©2000-2020 iText Group NV (AGPL-version)', 'creationDate': \"D:20211231212940+05'30'\", 'modDate': \"D:20211231212940+05'30'\", 'trapped': ''}, page_content='Thyrocare,\\n5CA-711, 3rd Floor,\\nHRBR 2nd Block,\\nHennur, Bengaluru-560043\\nPROCESSED AT :\\nNAME\\n \\nSELF\\nVIVEK  BARNWAL(32Y/M)\\nREF. BY\\nTEST ASKED\\nAAROGYAM 1.3\\n:\\n:\\n:\\nFLAT NO - B-106 TRIFECTA STARLIGHT APARTMENT \\nGARUDCHARPALYA MAHADEVPURA 560048\\nPATIENTID\\n: VB18181374\\nHOME COLLECTION :\\nTEST NAME\\nUNITS\\nVALUE\\nTECHNOLOGY \\nHOMOCYSTEINE\\nPHOTOMETRY\\nµmol/L\\n 20.21\\nReference Range :-\\n< 30\\nClinical Significance:\\nHomocysteine is linked to increased risk of premature coronary artery disease, stroke and thromboembolism.  Moreover, alzheimer’s \\ndisease, osteoporosis, venous thrombosis, schizophrenia, cognitive deficiency and pregnancy complications also elevates Homocysteine \\nlevels.\\nHigh Values:\\nElevated homocysteine levels might be due to increasing age, genetic traits, drugs, renal dysfunction and dietary deficiency of vitamins \\nor smoking. To lower your homocysteine, eat more green vegetables, stop smoking, alcohol. Folic acid helps lowering elevated levels.\\nPlease correlate with clinical conditions.\\nMethod:-\\nENZYMATIC ASSAY\\nSERUM\\n31 Dec 2021 18:15\\n31 Dec 2021 14:17\\n:\\n:\\n:\\n:\\nSample Type\\nReport  Released on (RRT)\\nSample Received on (SRT)\\nX3673282\\n:\\nBarcode\\n: 3112070884/DS318\\nLabcode\\nPage : 2 of 19\\nDr.Prachi Sinkar MD(Path)\\nDr.Caesar Sengupta MD(Micro)\\nSample Collected on (SCT)\\n31 Dec 2021 10:40\\n'), Document(metadata={'source': '../uploads\\\\7210843.pdf', 'file_path': '../uploads\\\\7210843.pdf', 'page': 2, 'total_pages': 19, 'format': 'PDF 1.4', 'title': '', 'author': '', 'subject': '', 'keywords': '', 'creator': '', 'producer': 'iTextSharp™ 5.5.13.2 ©2000-2020 iText Group NV (AGPL-version)', 'creationDate': \"D:20211231212940+05'30'\", 'modDate': \"D:20211231212940+05'30'\", 'trapped': ''}, page_content='Thyrocare,\\n5CA-711, 3rd Floor,\\nHRBR 2nd Block,\\nHennur, Bengaluru-560043\\nPROCESSED AT :\\nNAME\\n \\nSELF\\nVIVEK  BARNWAL(32Y/M)\\nREF. BY\\nTEST ASKED\\nAAROGYAM 1.3\\n:\\n:\\n:\\nFLAT NO - B-106 TRIFECTA STARLIGHT \\nAPARTMENT GARUDCHARPALYA MAHADEVPURA \\n560048\\nPATIENTID\\n: VB18181374\\nHOME COLLECTION :\\nTEST NAME\\nTECHNOLOGY\\nVALUE\\nUNITS\\nC.L.I.A\\nng/ml\\n16.51\\n25-OH VITAMIN D (TOTAL)\\nDEFICIENCY    : <20 ng/ml\\nINSUFFICIENCY : 20-<30 ng/ml\\nSUFFICIENCY   : 30-100 ng/ml  \\nTOXICITY      : >100 ng/ml\\nVitamin D Total test is analyzed on Siemens ADVIA Centaur, standardized against ID-LC/MS/MS, as per Vitamin D Standardization \\nProgram (VDSP).\\nSpecifications: Intra assay (%CV):5.3%, Inter assay (%CV):11.9% ; Sensitivity:3.2 ng/ml\\nReference Range :\\nMethod :\\nFULLY AUTOMATED  CHEMI LUMINESCENT IMMUNO ASSAY\\nC.L.I.A\\npg/ml\\n228\\nVITAMIN B-12\\nNormal :  211 - 911 pg/ml\\nClinical significance :\\nVitamin B12 or cyanocobalamin, is a complex corrinoid compound found exclusively from animal dietary sources, such as meat, eggs \\nand milk. It is critical in normal DNA synthesis, which in turn affects erythrocyte maturation and in the formation of myelin sheath.  \\nVitamin-B12 is used to find out neurological abnormalities and impaired DNA synthesis associated with macrocytic anemias. For \\ndiagnostic purpose, results should always be assessed in conjunction with the patients medical history, clinical examination and \\nother findings.\\nSpecifications: Intra assay (%CV):5.0%, Inter assay (%CV):9.2 %;Sensitivity:45 pg/ml\\nExternal quality control program participation:\\nCollege of American pathologists: ligand assay (general) survey; CAP number: 7193855-01\\nKit validation references:\\nChen IW,Sperling MI,Heminger IA.Vitamin B12.In:Pesce AJ,Kalpan LA,editors.Methods in clinical chemistry. St.Louis:CV \\nMosby,1987.P.569-73.\\nReference Range :\\nMethod :\\nFULLY AUTOMATED BIDIRECTIONALLY INTERFACED CHEMI LUMINESCENT IMMUNO ASSAY\\nPlease correlate with clinical conditions. \\nSERUM\\n31 Dec 2021 18:15\\n31 Dec 2021 14:17\\n31 Dec 2021 10:40\\n:\\n:\\n:\\n:\\nSample Type\\nReport  Released on (RRT)\\nSample Received on (SRT)\\nX3673282\\n:\\nBarcode\\n: 3112070884/DS318\\nLabcode\\nPage : 3 of 19\\nDr.Prachi Sinkar MD(Path)\\nDr.Caesar Sengupta MD(Micro)\\nSample Collected on (SCT)\\n'), Document(metadata={'source': '../uploads\\\\7210843.pdf', 'file_path': '../uploads\\\\7210843.pdf', 'page': 3, 'total_pages': 19, 'format': 'PDF 1.4', 'title': '', 'author': '', 'subject': '', 'keywords': '', 'creator': '', 'producer': 'iTextSharp™ 5.5.13.2 ©2000-2020 iText Group NV (AGPL-version)', 'creationDate': \"D:20211231212940+05'30'\", 'modDate': \"D:20211231212940+05'30'\", 'trapped': ''}, page_content='Thyrocare,\\n5CA-711, 3rd Floor,\\nHRBR 2nd Block,\\nHennur, Bengaluru-560043\\nPROCESSED AT :\\nNAME\\n \\nSELF\\nVIVEK  BARNWAL(32Y/M)\\nREF. BY\\nTEST ASKED\\nAAROGYAM 1.3\\n:\\n:\\n:\\nFLAT NO - B-106 TRIFECTA STARLIGHT \\nAPARTMENT GARUDCHARPALYA MAHADEVPURA \\n560048\\nPATIENTID\\n: VB18181374\\nHOME COLLECTION :\\nTEST NAME\\nTECHNOLOGY\\nVALUE\\nUNITS\\nIMMUNOTURBIDIMETRY\\nmg/dL\\n136\\nAPOLIPOPROTEIN - A1 (APO-A1)\\nMALE\\n:   86 - 152\\nFEMALE\\n:   94 - 162\\nReference Range :\\nMethod :\\nFULLY AUTOMATED RATE IMMUNOTURBIDIMETRY – BECKMAN COULTER\\nIMMUNOTURBIDIMETRY\\nmg/dL\\n97\\nAPOLIPOPROTEIN - B (APO-B)\\nMALE\\n:   56 - 145\\nFEMALE\\n:   53 - 138\\nReference Range :\\nMethod :\\nFULLY AUTOMATED RATE IMMUNOTURBIDIMETRY – BECKMAN COULTER\\nCALCULATED\\nRatio\\n0.7\\nAPO B / APO A1 RATIO (APO B/A1)\\n MALE\\n:  0.40  -  1.26\\n FEMALE\\n:  0.38  -  1.14\\nReference Range :\\nMethod :\\nDERIVED FROM SERUM APO A1 AND APO B  VALUES\\nPlease correlate with clinical conditions. \\nSERUM\\n31 Dec 2021 18:15\\n31 Dec 2021 14:17\\n31 Dec 2021 10:40\\n:\\n:\\n:\\n:\\nSample Type\\nReport  Released on (RRT)\\nSample Received on (SRT)\\nX3673282\\n:\\nBarcode\\n: 3112070884/DS318\\nLabcode\\nPage : 4 of 19\\nDr.Prachi Sinkar MD(Path)\\nDr.Caesar Sengupta MD(Micro)\\nSample Collected on (SCT)\\n'), Document(metadata={'source': '../uploads\\\\7210843.pdf', 'file_path': '../uploads\\\\7210843.pdf', 'page': 4, 'total_pages': 19, 'format': 'PDF 1.4', 'title': '', 'author': '', 'subject': '', 'keywords': '', 'creator': '', 'producer': 'iTextSharp™ 5.5.13.2 ©2000-2020 iText Group NV (AGPL-version)', 'creationDate': \"D:20211231212940+05'30'\", 'modDate': \"D:20211231212940+05'30'\", 'trapped': ''}, page_content='Thyrocare,\\n5CA-711, 3rd Floor,\\nHRBR 2nd Block,\\nHennur, Bengaluru-560043\\nPROCESSED AT :\\nNAME\\n \\nSELF\\nVIVEK  BARNWAL(32Y/M)\\nREF. BY\\nTEST ASKED\\nAAROGYAM 1.3\\n:\\n:\\n:\\nFLAT NO - B-106 TRIFECTA STARLIGHT APARTMENT \\nGARUDCHARPALYA MAHADEVPURA 560048\\nPATIENTID\\n: VB18181374\\nHOME COLLECTION :\\nTEST NAME\\nUNITS\\nVALUE\\nTECHNOLOGY \\nHIGH SENSITIVITY C-REACTIVE PROTEIN (HS-CRP)\\nIMMUNOTURBIDIMETRY\\nmg/L\\n 1.71\\nReference Range :-\\nADULT : <=3.0 MG/L\\nINTERPRETATION:\\nHIGH SENSITIVITY C-REACTIVE PROTEIN, WHEN USED IN CONJUNCTION WITH OTHER CLINICAL LABORATORY EVALUATION OF ACUTE \\nCORONARY SYNDROMES, MAY BE USEFUL AS AN INDEPENDENT MARKER OF PROGNOSIS FOR RECURRENT EVENTS, IN PATIENTS \\nWITH STABLE CORONARY DISEASE OR ACUTE CORONARY SYNDROMES. HSCRP LEVELS SHOULD NOT BE SUBSTITUTED FOR \\nASSESSMENT OF TRADITIONAL CARDIOVASCULAR RISK FACTORS. PATIENTS WITH PERSISTENTLY UNEXPLAINED, MARKED \\nEVALUATION OF HSCRP AFTER REPEATED TESTING SHOULD BE EVALUATED FOR NON - CARDIOVASCULAR ETIOLOGIES\\nCLINICAL SIGNIFICANCE:\\nHSCRP MEASUREMENTS MAY BE USED AS AN INDEPENDENT RISK MARKER FOR THE IDENTIFICATION OF INDIVIDUALS AT RISK FOR \\nFUTURE CARDIOVASCULAR DISEASE. ELEVATED CRP VALUES MAY BE INDICATIVE OF PROGNOSIS OF INDIVIDUALS WITH ACUTE \\nCORONARY SYNDROMES, AND MAY BE USEFUL IN THE MANAGEMENT OF SUCH INDIVIDUALS.\\nSPECIFICATIONS: PRECISION: WITHIN RUN %CV HAS BEEN RECORDED <=5%.\\nREFERENCES:\\n1. CHENILLOT O, HENNY J, STEINMEZ J, ET AL. HIGH SENSITIVITY C-REACTIVE PROTEIN: BIOLOGICAL VARIATIONS AND REFERENCE \\nLIMITS. CLIN CHEM LAB MED 2000;38:1003-11.\\n2. HIND CRH, PEPYS MB. THE ROLE OF SERUM C-REACTIVE PROTEIN MEASUREMENTS IN CLINICAL PRACTICE. INT MED \\n1984;5:112-51.\\nPlease correlate with clinical conditions.\\nMethod:-\\nFULLY AUTOMATED LATEX AGGLUTINATION – BECKMAN COULTER\\nSERUM\\n31 Dec 2021 18:15\\n31 Dec 2021 14:17\\n:\\n:\\n:\\n:\\nSample Type\\nReport  Released on (RRT)\\nSample Received on (SRT)\\nX3673282\\n:\\nBarcode\\n: 3112070884/DS318\\nLabcode\\nPage : 5 of 19\\nDr.Prachi Sinkar MD(Path)\\nDr.Caesar Sengupta MD(Micro)\\nSample Collected on (SCT)\\n31 Dec 2021 10:40\\n'), Document(metadata={'source': '../uploads\\\\7210843.pdf', 'file_path': '../uploads\\\\7210843.pdf', 'page': 5, 'total_pages': 19, 'format': 'PDF 1.4', 'title': '', 'author': '', 'subject': '', 'keywords': '', 'creator': '', 'producer': 'iTextSharp™ 5.5.13.2 ©2000-2020 iText Group NV (AGPL-version)', 'creationDate': \"D:20211231212940+05'30'\", 'modDate': \"D:20211231212940+05'30'\", 'trapped': ''}, page_content='Thyrocare,\\n5CA-711, 3rd Floor,\\nHRBR 2nd Block,\\nHennur, Bengaluru-560043\\nPROCESSED AT :\\nNAME\\n \\nSELF\\nVIVEK  BARNWAL(32Y/M)\\nREF. BY\\nTEST ASKED\\nAAROGYAM 1.3\\n:\\n:\\n:\\nFLAT NO - B-106 TRIFECTA STARLIGHT APARTMENT \\nGARUDCHARPALYA MAHADEVPURA 560048\\nPATIENTID\\n: VB18181374\\nHOME COLLECTION :\\nTEST NAME\\nUNITS\\nVALUE\\nTECHNOLOGY \\nLIPOPROTEIN (A) [LP(A)]\\nIMMUNOTURBIDIMETRY\\nmg/dl\\n 33.01\\nReference Range :-\\nADULTS :  < 30.0 MG/DL\\nINTERPRETATION:\\nDETERMINATION OF LPA MAY BE USEFUL TO GUIDE MANAGEMENT OF INDIVIDUALS WITH A FAMILY HISTORY OF CHD OR WITH \\nEXISTING DISEASE. THE LEVELS OF LPA IN THE BLOOD DEPENDS ON GENETIC FACTORS; THE RANGE OF VARIATION IN A \\nPOPULATION IS RELATIVELY LARGE AND HENCE FOR DIAGNOSTIC PURPOSE, RESULTS SHOULD ALWAYS BE ASSESSED IN \\nCONJUNCTION WITH THE PATIENT’S MEDICAL HISTORY, CLINICAL EXAMINATION AND OTHER FINDINGS.\\nSPECIFICATIONS:\\nPRECISION: INTRA ASSAY (%CV): 3.4 %, INTER ASSAY (%CV): 2.0 %; SENSITIVITY: 0.002 GM/L\\nEXTERNAL QUALITY CONTROL PROGRAM PARTICIPATION:\\nCOLLEGE OF AMERICAN PATHOLOGISTS:  GENERAL CHEMISTRY AND TDM; CAP NUMBER: 7193855-01 \\nKIT VALIDATION REFERENCES: \\nKOSCHINSKY ML, MARCOVINA SM. LIPOPROTEIN A: STRUCTURAL IMPLICATION FOR PATHOPHYSIOLOGY. INT J CLIN LAB RES, 1997; \\n27: 14-23.\\nPlease correlate with clinical conditions.\\nMethod:-\\nLATEX ENHANCED IMMUNOTURBIDIMETRY\\nSERUM\\n31 Dec 2021 18:15\\n31 Dec 2021 14:17\\n:\\n:\\n:\\n:\\nSample Type\\nReport  Released on (RRT)\\nSample Received on (SRT)\\nX3673282\\n:\\nBarcode\\n: 3112070884/DS318\\nLabcode\\nPage : 6 of 19\\nDr.Prachi Sinkar MD(Path)\\nDr.Caesar Sengupta MD(Micro)\\nSample Collected on (SCT)\\n31 Dec 2021 10:40\\n'), Document(metadata={'source': '../uploads\\\\7210843.pdf', 'file_path': '../uploads\\\\7210843.pdf', 'page': 6, 'total_pages': 19, 'format': 'PDF 1.4', 'title': '', 'author': '', 'subject': '', 'keywords': '', 'creator': '', 'producer': 'iTextSharp™ 5.5.13.2 ©2000-2020 iText Group NV (AGPL-version)', 'creationDate': \"D:20211231212940+05'30'\", 'modDate': \"D:20211231212940+05'30'\", 'trapped': ''}, page_content='Thyrocare,\\n5CA-711, 3rd Floor,\\nHRBR 2nd Block,\\nHennur, Bengaluru-560043\\nPROCESSED AT :\\nNAME\\n \\nSELF\\nVIVEK  BARNWAL(32Y/M)\\nREF. BY\\nTEST ASKED\\nAAROGYAM 1.3\\n:\\n:\\n:\\nFLAT NO - B-106 TRIFECTA STARLIGHT APARTMENT \\nGARUDCHARPALYA MAHADEVPURA 560048\\nPATIENTID\\n: VB18181374\\nHOME COLLECTION :\\nTEST NAME\\nUNITS\\nVALUE\\nTECHNOLOGY \\nSERUM COPPER\\nPHOTOMETRY\\nµg/dL\\n 110.47\\nReference Range :-\\nMALE   : 63.5 - 150\\nFEMALE :  80  - 155\\nCLINICAL SIGNIFICANCE\\nCOPPER IS AN IMPORTANT TRACE ELEMENT AND A COMPONENT OF NUMEROUS ENZYMES AND PROTEINS INVOLVED IN ENERGY \\nPRODUCTION, CONNECTIVE TISSUE FORMATION, MELANIN SYNTHESIS, IRON METABOLISM, DEVELOPMENT OF CENTRAL NERVOUS \\nSYSTEM, ANGIOGENESIS AS WELL AS AN ANTIOXIDANT.\\nDEFICIENCY CAN CAUSE - MALNOURISHMENT, CARDIOVASCULAR DISEASE, ANEMIA & NEUROPATHY. TOXICITY MAY BE MANIFESTED \\nAS ACUTE RENAL FAILURE, GASTROENTERITIS & CHRONIC LIVER DISEASE.\\nREFERENCE: CARL A. BURTIS, EDWARD R. ASHWOOD, DAVID E. BRUNS. TIETZ TEXTBOOK OF CLINICAL CHEMISTRY AND MOLECULAR \\nDIAGNOSTICS. CHAPTER 31.VITAMINS AND TRACE ELEMENTS. PAGE: 948-952.\\nPlease correlate with clinical conditions.\\nMethod:-\\n3,5-DIBR-PAESA\\nSERUM\\n31 Dec 2021 18:15\\n31 Dec 2021 14:17\\n:\\n:\\n:\\n:\\nSample Type\\nReport  Released on (RRT)\\nSample Received on (SRT)\\nX3673282\\n:\\nBarcode\\n: 3112070884/DS318\\nLabcode\\nPage : 7 of 19\\nDr.Prachi Sinkar MD(Path)\\nDr.Caesar Sengupta MD(Micro)\\nSample Collected on (SCT)\\n31 Dec 2021 10:40\\n'), Document(metadata={'source': '../uploads\\\\7210843.pdf', 'file_path': '../uploads\\\\7210843.pdf', 'page': 7, 'total_pages': 19, 'format': 'PDF 1.4', 'title': '', 'author': '', 'subject': '', 'keywords': '', 'creator': '', 'producer': 'iTextSharp™ 5.5.13.2 ©2000-2020 iText Group NV (AGPL-version)', 'creationDate': \"D:20211231212940+05'30'\", 'modDate': \"D:20211231212940+05'30'\", 'trapped': ''}, page_content='Thyrocare,\\n5CA-711, 3rd Floor,\\nHRBR 2nd Block,\\nHennur, Bengaluru-560043\\nPROCESSED AT :\\nNAME\\n \\nSELF\\nVIVEK  BARNWAL(32Y/M)\\nREF. BY\\nTEST ASKED\\nAAROGYAM 1.3\\n:\\n:\\n:\\nFLAT NO - B-106 TRIFECTA STARLIGHT APARTMENT \\nGARUDCHARPALYA MAHADEVPURA 560048\\nPATIENTID\\n: VB18181374\\nHOME COLLECTION :\\nTEST NAME\\nUNITS\\nVALUE\\nTECHNOLOGY \\nSERUM ZINC\\nPHOTOMETRY\\nµg/dL\\n 119.84\\nReference Range :-\\n52 - 286\\nCLINICAL SIGNIFICANCE\\nZINC IS ONE OF THE ESSENTIAL TRACE ELEMENTS IN THE BODY. ITS METALLOENZYMES PLAY A KEY ROLE IN PROTEIN AND NUCLEIC \\nACID SYNTHESIS, GENE EXPRESSION, WOUND HEALING, AS AN ANTIOXIDANT, ETC. \\nDEFICIENCY CAN CAUSE - POOR WOUND HEALING, GASTROENTERITIS, IMPAIRED SPERMATOGENESIS, ALZHEIMER’S DISEASE, ETC. \\nTOXICITY MAY BE MANIFESTED AS PANCREATITIS, GASTRIC ULCER, ANEMIA, PULMONARY FIBROSIS.\\nREFERENCE: CARL A. BURTIS, EDWARD R. ASHWOOD, DAVID E. BRUNS. TIETZ TEXTBOOK OF CLINICAL CHEMISTRY AND MOLECULAR \\nDIAGNOSTICS. CHAPTER 31.VITAMINS AND TRACE ELEMENTS. PAGE:960-965.\\nPlease correlate with clinical conditions.\\nMethod:-\\nNITRO - PAPS\\nSERUM\\n31 Dec 2021 18:15\\n31 Dec 2021 14:17\\n:\\n:\\n:\\n:\\nSample Type\\nReport  Released on (RRT)\\nSample Received on (SRT)\\nX3673282\\n:\\nBarcode\\n: 3112070884/DS318\\nLabcode\\nPage : 8 of 19\\nDr.Prachi Sinkar MD(Path)\\nDr.Caesar Sengupta MD(Micro)\\nSample Collected on (SCT)\\n31 Dec 2021 10:40\\n'), Document(metadata={'source': '../uploads\\\\7210843.pdf', 'file_path': '../uploads\\\\7210843.pdf', 'page': 8, 'total_pages': 19, 'format': 'PDF 1.4', 'title': '', 'author': '', 'subject': '', 'keywords': '', 'creator': '', 'producer': 'iTextSharp™ 5.5.13.2 ©2000-2020 iText Group NV (AGPL-version)', 'creationDate': \"D:20211231212940+05'30'\", 'modDate': \"D:20211231212940+05'30'\", 'trapped': ''}, page_content='Thyrocare,\\n5CA-711, 3rd Floor,\\nHRBR 2nd Block,\\nHennur, Bengaluru-560043\\nPROCESSED AT :\\nNAME\\n \\nSELF\\nVIVEK  BARNWAL(32Y/M)\\nREF. BY\\nTEST ASKED\\nAAROGYAM 1.3\\n:\\n:\\n:\\nFLAT NO - B-106 TRIFECTA STARLIGHT APARTMENT \\nGARUDCHARPALYA MAHADEVPURA 560048\\nPATIENTID\\n: VB18181374\\nHOME COLLECTION :\\nTEST NAME\\nUNITS\\nVALUE\\nTECHNOLOGY \\nTESTOSTERONE\\nC.L.I.A\\nng/dL\\n 529.69\\nReference Range :-\\nAdult Male\\n21 - 49 Yrs :\\n164.94 - 753.38\\n50 - 89 Yrs : \\n 86.49 - 788.22\\nAdult Female\\nPre-Menopause :\\n 12.09 - 59.46\\nPost-Menopause:\\n< 7.00 - 48.93\\nBoys\\n2-10 Years    : < 7.00 - 25.91\\n11 Years      : < 7.00 - 341.53\\n12 Years      : < 7.00 - 562.59\\n13 Years      :   9.34 - 562.93\\n14 Years      :  23.28 - 742.46\\n15 Years      : 144.15 - 841.44\\n16-21 Years   : 118.22 - 948.56\\nGirls\\n2-10 Years    : < 7.00 - 108.30\\n11-15 Years   : < 7.00 -  48.40\\n16-21 Years   :  17.55 -  50.41\\nClinical Significance:\\nClinical evaluation of serum testosterone, along with serum LH, assists in evaluation of Hypogonadal males. Major causes of lowered \\ntestosterone in males include Hypogonadotropic hypogonadism, testicular failure Hyperprolactinema, Hypopituitarism some types of \\nliver and kidney diseases and critical illness.\\nSpecifications: Precision: Intra assay (%CV): 8.5 %, Inter assay (%CV): 12.6%; Sensitivity: 7 ng/dL.\\nExternal quality control program participation:\\nCollege of American pathologists: Ligand assay (special) survey; cap number: 7193855-01\\nPlease correlate with clinical conditions.\\nMethod:-\\nFULLY AUTOMATED BIDIRECTIONALLY INTERFACED CHEMI LUMINESCENT IMMUNO ASSAY\\nSERUM\\n31 Dec 2021 18:15\\n31 Dec 2021 14:17\\n:\\n:\\n:\\n:\\nSample Type\\nReport  Released on (RRT)\\nSample Received on (SRT)\\nX3673282\\n:\\nBarcode\\n: 3112070884/DS318\\nLabcode\\nPage : 9 of 19\\nDr.Prachi Sinkar MD(Path)\\nDr.Caesar Sengupta MD(Micro)\\nSample Collected on (SCT)\\n31 Dec 2021 10:40\\n'), Document(metadata={'source': '../uploads\\\\7210843.pdf', 'file_path': '../uploads\\\\7210843.pdf', 'page': 9, 'total_pages': 19, 'format': 'PDF 1.4', 'title': '', 'author': '', 'subject': '', 'keywords': '', 'creator': '', 'producer': 'iTextSharp™ 5.5.13.2 ©2000-2020 iText Group NV (AGPL-version)', 'creationDate': \"D:20211231212940+05'30'\", 'modDate': \"D:20211231212940+05'30'\", 'trapped': ''}, page_content='Thyrocare,\\n5CA-711, 3rd Floor,\\nHRBR 2nd Block,\\nHennur, Bengaluru-560043\\nPROCESSED AT :\\nNAME\\n \\nSELF\\nVIVEK  BARNWAL(32Y/M)\\nREF. BY\\nTEST ASKED\\nAAROGYAM 1.3\\n:\\n:\\n:\\nFLAT NO - B-106 TRIFECTA STARLIGHT \\nAPARTMENT GARUDCHARPALYA MAHADEVPURA \\n560048\\nPATIENTID\\n: VB18181374\\nHOME COLLECTION :\\nTEST NAME\\nTECHNOLOGY\\nVALUE\\nUNITS\\nPHOTOMETRY\\nµg/dl\\n85.45\\nIRON\\nMale : 65 - 175\\nFemale : 50 - 170\\nReference Range :\\nMethod :\\nFERROZINE METHOD WITHOUT DEPROTEINIZATION\\nPHOTOMETRY\\nµg/dl\\n443.02\\nTOTAL IRON BINDING CAPACITY (TIBC)\\nMale: 225 - 535 µg/dl  Female: 215 - 535 µg/dl\\nReference Range :\\nMethod :\\nSPECTROPHOTOMETRIC ASSAY\\nCALCULATED\\n%\\n19.29\\n% TRANSFERRIN SATURATION\\n13 - 45\\nReference Range :\\nMethod :\\nDERIVED FROM IRON AND TIBC VALUES\\nPlease correlate with clinical conditions. \\nSERUM\\n31 Dec 2021 18:15\\n31 Dec 2021 14:17\\n31 Dec 2021 10:40\\n:\\n:\\n:\\n:\\nSample Type\\nReport  Released on (RRT)\\nSample Received on (SRT)\\nX3673282\\n:\\nBarcode\\n: 3112070884/DS318\\nLabcode\\nPage : 10 of 19\\nDr.Prachi Sinkar MD(Path)\\nDr.Caesar Sengupta MD(Micro)\\nSample Collected on (SCT)\\n'), Document(metadata={'source': '../uploads\\\\7210843.pdf', 'file_path': '../uploads\\\\7210843.pdf', 'page': 10, 'total_pages': 19, 'format': 'PDF 1.4', 'title': '', 'author': '', 'subject': '', 'keywords': '', 'creator': '', 'producer': 'iTextSharp™ 5.5.13.2 ©2000-2020 iText Group NV (AGPL-version)', 'creationDate': \"D:20211231212940+05'30'\", 'modDate': \"D:20211231212940+05'30'\", 'trapped': ''}, page_content='Thyrocare,\\n5CA-711, 3rd Floor,\\nHRBR 2nd Block,\\nHennur, Bengaluru-560043\\nPROCESSED AT :\\nNAME\\n \\nSELF\\nVIVEK  BARNWAL(32Y/M)\\nREF. BY\\nTEST ASKED\\nAAROGYAM 1.3\\n:\\n:\\n:\\nFLAT NO - B-106 TRIFECTA STARLIGHT APARTMENT \\nGARUDCHARPALYA MAHADEVPURA 560048\\nPATIENTID\\n: VB18181374\\nHOME COLLECTION :\\nTEST NAME\\nTECHNOLOGY\\nVALUE\\nUNITS\\nNORMAL RANGE\\nTOTAL CHOLESTEROL\\nPHOTOMETRY\\n< 200\\nmg/dl\\n 192\\nHDL CHOLESTEROL - DIRECT\\nPHOTOMETRY\\n40-60\\nmg/dl\\n 50\\nTRIGLYCERIDES\\nPHOTOMETRY\\n< 150\\nmg/dl\\n 96\\nLDL CHOLESTEROL - DIRECT\\nPHOTOMETRY\\n< 100\\nmg/dl\\n 131\\nTC/ HDL CHOLESTEROL RATIO\\nCALCULATED\\n3 - 5\\nRatio\\n 3.8\\nLDL / HDL RATIO\\nCALCULATED\\n1.5-3.5\\nRatio\\n 2.6\\nVLDL CHOLESTEROL\\nCALCULATED\\n5 - 40\\nmg/dl\\n 19.23\\nNON-HDL CHOLESTEROL\\nCALCULATED\\n< 160\\nmg/dl\\n 141.92\\nPlease correlate with clinical conditions.\\nMethod :\\nCHOL - Cholesterol Oxidase, Esterase, Peroxidase\\nHCHO - Direct Enzymatic Colorimetric\\nTRIG - Enzymatic, End Point\\nLDL - Direct Measure\\nTC/H - DERIVED FROM SERUM CHOLESTEROL AND HDL VALUES\\nLDL/ - Derived from serum HDL and LDL Values\\nVLDL - DERIVED FROM SERUM TRIGLYCERIDE VALUES\\nNHDL - Derived from serum Cholesterol and HDL values\\nAlert !!! 10-12 hours fasting is mandatory for lipid parameters. If not, values might fluctuate.\\n*REFERENCE RANGES AS PER NCEP ATP III GUIDELINES:\\nTOTAL CHOLESTEROL   \\n>190\\nVERY HIGH                 \\n>500\\nVERY HIGH                 \\n160-189\\nHIGH                         \\n200-499\\nHIGH                        \\n130-159\\nBORDERLINE HIGH   \\n>240\\nHIGH                              \\n150-199\\nBORDERLINE HIGH    \\n100-129\\nNEAR OPTIMAL          \\n>60\\nHIGH          \\n200-239\\nBORDERLINE HIGH            \\n<150\\nNORMAL                   \\n<100\\nOPTIMAL                    \\n<40\\nLOW             \\n<200\\nDESIRABLE                      \\n(mg/dl)\\nTRIGLYCERIDES   \\n(mg/dl)\\nLDL                          \\n(mg/dl)\\nHDL           \\n(mg/dl)\\nPage : 11 of 19\\nSERUM\\n31 Dec 2021 18:15\\n31 Dec 2021 14:17\\n31 Dec 2021 10:40\\n:\\n:\\n:\\n:\\nSample Type\\nReport  Released on (RRT)\\nSample Received on (SRT)\\nSample Collected on (SCT)\\nX3673282\\n:\\nBarcode\\n: 3112070884/DS318\\nLabcode\\nDr.Prachi Sinkar MD(Path)\\nDr.Caesar Sengupta MD(Micro)\\n'), Document(metadata={'source': '../uploads\\\\7210843.pdf', 'file_path': '../uploads\\\\7210843.pdf', 'page': 11, 'total_pages': 19, 'format': 'PDF 1.4', 'title': '', 'author': '', 'subject': '', 'keywords': '', 'creator': '', 'producer': 'iTextSharp™ 5.5.13.2 ©2000-2020 iText Group NV (AGPL-version)', 'creationDate': \"D:20211231212940+05'30'\", 'modDate': \"D:20211231212940+05'30'\", 'trapped': ''}, page_content='Thyrocare,\\n5CA-711, 3rd Floor,\\nHRBR 2nd Block,\\nHennur, Bengaluru-560043\\nPROCESSED AT :\\nNAME\\n \\nSELF\\nVIVEK  BARNWAL(32Y/M)\\nREF. BY\\nTEST ASKED\\nAAROGYAM 1.3\\n:\\n:\\n:\\nFLAT NO - B-106 TRIFECTA STARLIGHT APARTMENT \\nGARUDCHARPALYA MAHADEVPURA 560048\\nPATIENTID\\n: VB18181374\\nHOME COLLECTION :\\nTEST NAME\\nTECHNOLOGY\\nVALUE\\nUNITS\\nNORMAL RANGE\\nALKALINE PHOSPHATASE\\nPHOTOMETRY\\n45 - 129\\nU/L\\n 91.04\\nBILIRUBIN -DIRECT\\nPHOTOMETRY\\n< 0.3\\nmg/dl\\n 0.26\\nBILIRUBIN - TOTAL\\nPHOTOMETRY\\n0.3-1.2\\nmg/dl\\n 0.84\\nBILIRUBIN (INDIRECT)\\nCALCULATED\\n0-0.9\\nmg/dl\\n 0.58\\nGAMMA GLUTAMYL TRANSFERASE (GGT)\\nPHOTOMETRY\\n< 55\\nU/l\\n 37.6\\nASPARTATE AMINOTRANSFERASE (SGOT )\\nPHOTOMETRY\\n< 35\\nU/l\\n 272\\nALANINE TRANSAMINASE (SGPT)\\nPHOTOMETRY\\n< 45\\nU/l\\n 93.83\\nPROTEIN - TOTAL\\nPHOTOMETRY\\n5.7-8.2\\ngm/dl\\n 7.99\\nALBUMIN - SERUM\\nPHOTOMETRY\\n3.2-4.8\\ngm/dl\\n 4.93\\nSERUM GLOBULIN\\nPHOTOMETRY\\n2.5-3.4\\ngm/dL\\n 3.06\\nSERUM ALB/GLOBULIN RATIO\\nCALCULATED\\n0.9 - 2\\nRatio\\n 1.61\\nPlease correlate with clinical conditions.\\nMethod :\\nALKP - Modified IFCC method\\nBILD - Vanadate Oxidation\\nBILT - Vanadate Oxidation\\nBILI - DERIVED FROM SERUM TOTAL AND DIRECT BILIRUBIN VALUES\\nGGT - Modified IFCC method\\nSGOT - IFCC* WITHOUT PYRIDOXAL PHOSPHATE ACTIVATION\\nSGPT - IFCC* WITHOUT PYRIDOXAL PHOSPHATE ACTIVATION\\nPROT -   BIURET METHOD\\nSALB - ALBUMIN BCG¹METHOD (COLORIMETRIC ASSAY ENDPOINT)\\nSEGB - DERIVED FROM SERUM ALBUMIN AND PROTEIN VALUES\\nA/GR - DERIVED FROM SERUM ALBUMIN AND PROTEIN VALUES\\nPage : 12 of 19\\nSERUM\\n31 Dec 2021 18:15\\n31 Dec 2021 14:17\\n31 Dec 2021 10:40\\n:\\n:\\n:\\n:\\nSample Type\\nReport  Released on (RRT)\\nSample Received on (SRT)\\nSample Collected on (SCT)\\nX3673282\\n:\\nBarcode\\n: 3112070884/DS318\\nLabcode\\nDr.Prachi Sinkar MD(Path)\\nDr.Caesar Sengupta MD(Micro)\\n'), Document(metadata={'source': '../uploads\\\\7210843.pdf', 'file_path': '../uploads\\\\7210843.pdf', 'page': 12, 'total_pages': 19, 'format': 'PDF 1.4', 'title': '', 'author': '', 'subject': '', 'keywords': '', 'creator': '', 'producer': 'iTextSharp™ 5.5.13.2 ©2000-2020 iText Group NV (AGPL-version)', 'creationDate': \"D:20211231212940+05'30'\", 'modDate': \"D:20211231212940+05'30'\", 'trapped': ''}, page_content='Thyrocare,\\n5CA-711, 3rd Floor,\\nHRBR 2nd Block,\\nHennur, Bengaluru-560043\\nPROCESSED AT :\\nNAME\\n \\nREF. BY\\nTEST ASKED\\nFLAT NO - B-106 TRIFECTA STARLIGHT APARTMENT \\nGARUDCHARPALYA MAHADEVPURA 560048\\n:\\n:\\n:\\nAAROGYAM 1.3\\nSELF\\nVIVEK  BARNWAL(32Y/M)\\nPATIENTID\\n:\\nVB18181374\\nHOME COLLECTION :\\nTEST NAME\\nTECHNOLOGY \\nVALUE\\nUNITS\\nREFERENCE RANGE\\nTOTAL TRIIODOTHYRONINE (T3)\\nC.L.I.A\\nng/dl\\n60-200\\n90\\nTOTAL THYROXINE (T4)\\nC.L.I.A\\nµg/dl\\n4.5-12\\n7.1\\nTHYROID STIMULATING HORMONE (TSH)\\nC.L.I.A\\nµIU/ml\\n0.3-5.5\\n1.93\\nComments :\\nPlease correlate with clinical conditions.\\nMethod :\\nT3 - COMPETITIVE  CHEMI LUMINESCENT IMMUNO ASSAY\\nT4 - COMPETITIVE CHEMI LUMINESCENT IMMUNO ASSAY\\nTSH - SANDWICH CHEMI LUMINESCENT IMMUNO ASSAY\\nSUGGESTING THYRONORMALCY\\nSample Type\\nReport  Released on (RRT)\\nSample Received on (SRT)\\nBarcode\\nLabcode\\n:\\n:\\n:\\n:\\n:\\n:\\n31 Dec 2021 14:17\\n31 Dec 2021 18:15\\nSERUM\\n3112070884/DS318\\nX3673282\\nDr.Prachi Sinkar MD(Path)\\nDr.Caesar Sengupta MD(Micro)\\nPage : 13 of 19\\n31 Dec 2021 10:40\\nSample Collected on (SCT)\\n'), Document(metadata={'source': '../uploads\\\\7210843.pdf', 'file_path': '../uploads\\\\7210843.pdf', 'page': 13, 'total_pages': 19, 'format': 'PDF 1.4', 'title': '', 'author': '', 'subject': '', 'keywords': '', 'creator': '', 'producer': 'iTextSharp™ 5.5.13.2 ©2000-2020 iText Group NV (AGPL-version)', 'creationDate': \"D:20211231212940+05'30'\", 'modDate': \"D:20211231212940+05'30'\", 'trapped': ''}, page_content='Thyrocare,\\n5CA-711, 3rd Floor,\\nHRBR 2nd Block,\\nHennur, Bengaluru-560043\\nPROCESSED AT :\\nNAME\\n \\nSELF\\nVIVEK  BARNWAL(32Y/M)\\nREF. BY\\nTEST ASKED\\nAAROGYAM 1.3\\n:\\n:\\n:\\nFLAT NO - B-106 TRIFECTA STARLIGHT APARTMENT \\nGARUDCHARPALYA MAHADEVPURA 560048\\nPATIENTID\\n: VB18181374\\nHOME COLLECTION :\\nTEST NAME\\nTECHNOLOGY\\nVALUE\\nUNITS\\nNORMAL RANGE\\nBLOOD UREA NITROGEN (BUN)\\nPHOTOMETRY\\n7 - 25\\nmg/dl\\n 10.97\\nCREATININE - SERUM\\nPHOTOMETRY\\n0.6-1.1\\nmg/dl\\n 0.86\\nURIC ACID\\nPHOTOMETRY\\n4.2 - 7.3\\nmg/dl\\n 6.43\\nCALCIUM\\nPHOTOMETRY\\n8.8-10.6\\nmg/dl\\n 10.04\\nBUN / SR.CREATININE RATIO\\nCALCULATED\\n9:1-23:1\\nRatio\\n 12.76\\nPlease correlate with clinical conditions.\\nMethod :\\nBUN - KINETIC UV ASSAY.\\nSCRE - CREATININE ENZYMATIC METHOD\\nURIC - Uricase / Peroxidase Method\\nCALC - ARSENAZO III METHOD, END POINT.\\nB/CR - DERIVED FROM SERUM BUN AND CREATININE VALUES\\nPage : 14 of 19\\nSERUM\\n31 Dec 2021 18:15\\n31 Dec 2021 14:17\\n31 Dec 2021 10:40\\n:\\n:\\n:\\n:\\nSample Type\\nReport  Released on (RRT)\\nSample Received on (SRT)\\nSample Collected on (SCT)\\nX3673282\\n:\\nBarcode\\n: 3112070884/DS318\\nLabcode\\nDr.Prachi Sinkar MD(Path)\\nDr.Caesar Sengupta MD(Micro)\\n'), Document(metadata={'source': '../uploads\\\\7210843.pdf', 'file_path': '../uploads\\\\7210843.pdf', 'page': 14, 'total_pages': 19, 'format': 'PDF 1.4', 'title': '', 'author': '', 'subject': '', 'keywords': '', 'creator': '', 'producer': 'iTextSharp™ 5.5.13.2 ©2000-2020 iText Group NV (AGPL-version)', 'creationDate': \"D:20211231212940+05'30'\", 'modDate': \"D:20211231212940+05'30'\", 'trapped': ''}, page_content='Thyrocare,\\n5CA-711, 3rd Floor,\\nHRBR 2nd Block,\\nHennur, Bengaluru-560043\\nPROCESSED AT :\\nNAME\\n \\nSELF\\nVIVEK  BARNWAL(32Y/M)\\nREF. BY\\nTEST ASKED\\nAAROGYAM 1.3\\n:\\n:\\n:\\nFLAT NO - B-106 TRIFECTA STARLIGHT APARTMENT \\nGARUDCHARPALYA MAHADEVPURA 560048\\nPATIENTID\\n: VB18181374\\nHOME COLLECTION :\\nTEST NAME\\nUNITS\\nVALUE\\nTECHNOLOGY \\nEST. GLOMERULAR FILTRATION RATE (eGFR)\\nCALCULATED\\nmL/min/1.73 m2\\n 115\\nReference Range :-\\n>  =  90\\n: Normal\\n60 - 89\\n: Mild Decrease\\n45 - 59 \\n: Mild to Moderate Decrease\\n30 - 44\\n: Moderate to Severe Decrease\\n15 - 29\\n: Severe Decrease\\nClinical Significance\\nThe normal serum creatinine reference interval does not necessarily reflect a normal GFR for a patient. Because mild and moderate \\nkidney injury is poorly inferred from serum creatinine alone. Thus, it is recommended for clinical laboratories to routinely estimate \\nglomerular filtration rate (eGFR), a “gold standard” measurement for assessment of renal function, and report the value when serum \\ncreatinine is measured for patients 18 and older, when appropriate and feasible. It cannot be measured easily in clinical practice, \\ninstead, GFR is estimated from equations using serum creatinine, age, race and sex. This provides easy to interpret information for the \\ndoctor and patient on the degree of renal impairment since it approximately equates to the percentage of kidney function remaining. \\nApplication of CKD-EPI equation together with the other diagnostic tools in renal medicine will further improve the detection and \\nmanagement of patients with CKD.\\nReference \\nLevey AS, Stevens LA, Schmid CH, Zhang YL, Castro AF, 3rd, Feldman HI, et al. A new equation to estimate glomerular filtration rate. \\nAnn Intern Med. 2009;150(9):604-12.\\nPlease correlate with clinical conditions.\\nMethod:-\\nCKD-EPI Creatinine Equation\\nSERUM\\n31 Dec 2021 18:15\\n31 Dec 2021 14:17\\n:\\n:\\n:\\n:\\nSample Type\\nReport  Released on (RRT)\\nSample Received on (SRT)\\nX3673282\\n:\\nBarcode\\n: 3112070884/DS318\\nLabcode\\nPage : 15 of 19\\nDr.Prachi Sinkar MD(Path)\\nDr.Caesar Sengupta MD(Micro)\\nSample Collected on (SCT)\\n31 Dec 2021 10:40\\n'), Document(metadata={'source': '../uploads\\\\7210843.pdf', 'file_path': '../uploads\\\\7210843.pdf', 'page': 15, 'total_pages': 19, 'format': 'PDF 1.4', 'title': '', 'author': '', 'subject': '', 'keywords': '', 'creator': '', 'producer': 'iTextSharp™ 5.5.13.2 ©2000-2020 iText Group NV (AGPL-version)', 'creationDate': \"D:20211231212940+05'30'\", 'modDate': \"D:20211231212940+05'30'\", 'trapped': ''}, page_content='Thyrocare,\\n5CA-711, 3rd Floor,\\nHRBR 2nd Block,\\nHennur, Bengaluru-560043\\nPROCESSED AT :\\nNAME\\n \\nSELF\\nVIVEK  BARNWAL(32Y/M)\\nREF. BY\\nTEST ASKED\\nAAROGYAM 1.3\\n:\\n:\\n:\\nFLAT NO - B-106 TRIFECTA STARLIGHT APARTMENT \\nGARUDCHARPALYA MAHADEVPURA 560048\\nPATIENTID\\n: VB18181374\\nHOME COLLECTION :\\nTEST NAME\\nTECHNOLOGY\\nVALUE\\nUNITS\\nNORMAL RANGE\\nARSENIC\\nICP-MS\\n< 5\\nµg/l\\n 0.84\\nCADMIUM\\nICP-MS\\n< 1.5\\nµg/l\\n 0.6\\nMERCURY\\nICP-MS\\n< 5\\nµg/l\\n 1.78\\nLEAD\\nICP-MS\\n< 150\\nµg/l\\n 63.34\\nCHROMIUM\\nICP-MS\\n< 30\\nµg/l\\n 3.71\\nBARIUM\\nICP-MS\\n< 30\\nµg/l\\n 5.61\\nCOBALT\\nICP-MS\\n0.10 - 1.50\\nµg/l\\n 0.33\\nCAESIUM\\nICP-MS\\n< 5\\nµg/l\\n 2.06\\nTHALLIUM\\nICP-MS\\n< 1\\nµg/l\\n 0.08\\nURANIUM\\nICP-MS\\n< 1\\nµg/l\\n 0.1\\nSTRONTIUM\\nICP-MS\\n8 - 38\\nµg/l\\n 33.8\\nANTIMONY\\nICP-MS\\n0.10  - 18\\nµg/l\\n 7.05\\nTIN\\nICP-MS\\n< 2\\nµg/l\\n 1.17\\nMOLYBDENUM\\nICP-MS\\n 0.70 - 4.0\\nµg/l\\n 1.31\\nSILVER\\nICP-MS\\n< 4\\nµg/l\\n 1.82\\nVANADIUM\\nICP-MS\\n< 0.8\\nµg/l\\n 0.64\\nBERYLLIUM\\nICP-MS\\n0.10 - 0.80\\nµg/l\\n 0.09\\nBISMUTH\\nICP-MS\\n0.10 - 0.80\\nµg/l\\n 0.15\\nSELENIUM\\nICP-MS\\n 60 - 340\\nµg/l\\n 134.08\\nALUMINIUM\\nICP-MS\\n< 30\\nµg/l\\n 1.96\\nNICKEL\\nICP-MS\\n< 15\\nµg/l\\n 4.23\\nMANGANESE\\nICP-MS\\n 7.10 - 20\\nµg/l\\n 12.65\\nPlease correlate with clinical conditions.\\nMethod :\\nICP - MASS SPECTROMETRY\\nNote:Reference range has been obtained after considering 95% population as cutoff.\\nPage : 16 of 19\\nEDTA\\n31 Dec 2021 20:56\\n31 Dec 2021 14:30\\n31 Dec 2021 10:40\\n:\\n:\\n:\\n:\\nSample Type\\nReport  Released on (RRT)\\nSample Received on (SRT)\\nSample Collected on (SCT)\\nX4420657\\n:\\nBarcode\\n: 3112071572/DS318\\nLabcode\\nDr.Prachi Sinkar MD(Path)\\nDr.Caesar Sengupta MD(Micro)\\n'), Document(metadata={'source': '../uploads\\\\7210843.pdf', 'file_path': '../uploads\\\\7210843.pdf', 'page': 16, 'total_pages': 19, 'format': 'PDF 1.4', 'title': '', 'author': '', 'subject': '', 'keywords': '', 'creator': '', 'producer': 'iTextSharp™ 5.5.13.2 ©2000-2020 iText Group NV (AGPL-version)', 'creationDate': \"D:20211231212940+05'30'\", 'modDate': \"D:20211231212940+05'30'\", 'trapped': ''}, page_content='Thyrocare,\\n5CA-711, 3rd Floor,\\nHRBR 2nd Block,\\nHennur, Bengaluru-560043\\nPROCESSED AT :\\nNAME\\n \\nSELF\\nVIVEK  BARNWAL(32Y/M)\\nREF. BY\\nTEST ASKED\\nAAROGYAM 1.3\\n:\\n:\\n:\\nFLAT NO - B-106 TRIFECTA STARLIGHT \\nAPARTMENT GARUDCHARPALYA MAHADEVPURA \\n560048\\nPATIENTID\\n: VB18181374\\nHOME COLLECTION :\\nTEST NAME\\nTECHNOLOGY\\nVALUE\\nUNITS\\nHbA1c - (HPLC)\\nH.P.L.C\\n%\\n5.3\\nBelow 5.7%   : Normal\\n5.7% - 6.4% : Prediabetic\\n>=6.5%        : Diabetic   \\nReference Range: As per ADA Guidelines\\nBelow 6.5% : Good Control\\n6.5% - 7%  : Fair Control\\n7.0% - 8%  : Unsatisfactory Control\\n>8%          : Poor Control\\nGuidance For Known Diabetics\\nReference Range :\\nMethod :\\nFully Automated H.P.L.C. using Biorad Variant II Turbo\\nCALCULATED\\nmg/dl\\n105\\nAVERAGE BLOOD GLUCOSE (ABG)\\n90 - 120 mg/dl   : Good Control\\n121 - 150 mg/dl : Fair Control\\n151 - 180 mg/dl : Unsatisfactory Control\\n> 180 mg/dl      : Poor Control\\nReference Range :\\nMethod :\\nDerived from HBA1c  values\\nPlease correlate with clinical conditions. \\nEDTA\\n31 Dec 2021 20:56\\n31 Dec 2021 14:30\\n31 Dec 2021 10:40\\n:\\n:\\n:\\n:\\nSample Type\\nReport  Released on (RRT)\\nSample Received on (SRT)\\nX4420657\\n:\\nBarcode\\n: 3112071572/DS318\\nLabcode\\nPage : 17 of 19\\nDr.Prachi Sinkar MD(Path)\\nDr.Caesar Sengupta MD(Micro)\\nSample Collected on (SCT)\\n'), Document(metadata={'source': '../uploads\\\\7210843.pdf', 'file_path': '../uploads\\\\7210843.pdf', 'page': 17, 'total_pages': 19, 'format': 'PDF 1.4', 'title': '', 'author': '', 'subject': '', 'keywords': '', 'creator': '', 'producer': 'iTextSharp™ 5.5.13.2 ©2000-2020 iText Group NV (AGPL-version)', 'creationDate': \"D:20211231212940+05'30'\", 'modDate': \"D:20211231212940+05'30'\", 'trapped': ''}, page_content='Thyrocare,\\n5CA-711, 3rd Floor,\\nHRBR 2nd Block,\\nHennur, Bengaluru-560043\\nPROCESSED AT :\\nNAME\\n \\nSELF\\nVIVEK  BARNWAL(32Y/M)\\nREF. BY\\nTEST ASKED\\nAAROGYAM 1.3\\n:\\n:\\n:\\nFLAT NO - B-106 TRIFECTA STARLIGHT \\nAPARTMENT GARUDCHARPALYA MAHADEVPURA \\n560048\\nPATIENTID\\n:\\nVB18181374\\nHOME COLLECTION :\\nTEST NAME\\nVALUE\\nUNITS\\nREFERENCE RANGE\\nX 10³ / µL\\n 6.2\\n4.0-10.0\\nTOTAL LEUCOCYTES COUNT\\n%\\n 57.9\\n40-80\\nNEUTROPHILS\\n%\\n 32.7\\n20-40\\nLYMPHOCYTE PERCENTAGE\\n%\\n 3.1\\n0-10\\nMONOCYTES\\n%\\n 5.5\\n0.0-6.0\\nEOSINOPHILS\\n%\\n 0.5\\n<2\\nBASOPHILS\\n%\\n 0.3\\n0-0.5\\nIMMATURE GRANULOCYTE PERCENTAGE(IG%)\\nX 10³ / µL\\n 3.59\\n2.0-7.0\\nNEUTROPHILS - ABSOLUTE COUNT\\nX 10³ / µL\\n 2.03\\n1.0-3.0\\nLYMPHOCYTES - ABSOLUTE COUNT\\nX 10³ / µL\\n 0.19\\n0.2-1\\nMONOCYTES - ABSOLUTE COUNT\\nX 10³ / µL\\n 0.03\\n0-0.1\\nBASOPHILS - ABSOLUTE COUNT\\nX 10³ / µL\\n 0.34\\n0-0.5\\nEOSINOPHILS - ABSOLUTE COUNT\\nX 10³ / µL\\n 0.02\\n0-0.3\\nIMMATURE GRANULOCYTES(IG)\\nX 10^6/µL\\n 5.38\\n4.5-5.5\\nTOTAL RBC\\nX 10³ / µL\\nNil\\n<0.01\\nNUCLEATED RED BLOOD CELLS\\n%\\nNil\\n<0.01\\nNUCLEATED RED BLOOD CELLS %\\ng/dL\\n 16.3\\n13-17\\nHEMOGLOBIN\\n%\\n 45.64\\n40-50\\nHEMATOCRIT(PCV)\\nfL\\n 93.3\\n83-101\\nMEAN CORPUSCULAR VOLUME(MCV)\\npq\\n 30.3\\n27-32\\nMEAN CORPUSCULAR HEMOGLOBIN(MCH)\\ng/dL\\n 32.5\\n31.5-34.5\\nMEAN CORP.HEMO.CONC(MCHC)\\nfL\\n 43.9\\n39-46\\nRED CELL DISTRIBUTION WIDTH - SD(RDW-SD)\\n%\\n 13\\n11.6-14\\nRED CELL DISTRIBUTION WIDTH (RDW-CV)\\nfL\\n 11.5\\n9.6-15.2\\nPLATELET DISTRIBUTION WIDTH(PDW)\\nfL\\n 10.3\\n6.5-12\\nMEAN PLATELET VOLUME(MPV)\\nX 10³ / µL\\n 290\\n150-400\\nPLATELET COUNT\\n%\\n 27.2\\n19.7-42.4\\nPLATELET TO LARGE CELL RATIO(PLCR)\\n%\\n 0.3\\n0.19-0.39\\nPLATELETCRIT(PCT)\\nMethod : Fully automated bidirectional analyser (6 Part Differential SYSMEX XN-1000)\\n(This device performs hematology analyses according to the Hydrodynamic Focussing (DC method), Flow \\nCytometry Method (using a semiconductor laser), and SLS- hemoglobin method)\\nPlease Correlate with clinical conditions.\\n~~ End of report ~~\\nEDTA\\n31 Dec 2021 20:56\\n31 Dec 2021 14:30\\n31 Dec 2021 10:40\\n:\\n:\\n:\\n:\\nSample Type\\nReport  Released on (RRT)\\nSample Received on (SRT)\\nSample Collected on (SCT)\\nX4420657\\n:\\nBarcode\\n: 3112071572/DS318\\nLabcode\\nPage : 18 of 19\\nDr.Caesar Sengupta MD(Micro)\\nDr.Prachi Sinkar MD(Path)\\n'), Document(metadata={'source': '../uploads\\\\7210843.pdf', 'file_path': '../uploads\\\\7210843.pdf', 'page': 18, 'total_pages': 19, 'format': 'PDF 1.4', 'title': '', 'author': '', 'subject': '', 'keywords': '', 'creator': '', 'producer': 'iTextSharp™ 5.5.13.2 ©2000-2020 iText Group NV (AGPL-version)', 'creationDate': \"D:20211231212940+05'30'\", 'modDate': \"D:20211231212940+05'30'\", 'trapped': ''}, page_content='CONDITIONS OF REPORTING\\n v\\nThe reported results are for information and interpretation of the referring doctor only.\\n v\\n It is presumed that the tests performed on the specimen belong to the patient; named or identified.\\n v\\n Results of tests may vary from laboratory to laboratory and also in some parameters from time to time for the \\nsame patient.\\n v\\n Should the results indicate an unexpected abnormality, the same should be reconfirmed.\\n v\\n Only such medical professionals who understand reporting units, reference ranges and limitations of technologies \\nshould interpret results.\\n v\\n This report is not valid for medico-legal purpose.\\n v\\n Neither Thyrocare, nor its employees/representatives assume any liability, responsibility for any loss or damage \\nthat may be incurred  by any person as a result of presuming the meaning or contents of the report. \\n v  Thyrocare Discovery video link :- https://youtu.be/nbdYeRgYyQc\\n v   For clinical support please contact @8450950851,8450950852,8450950853,8450950854 between 10:00 to 18:00\\n v\\n Majority of the specimen processed in the laboratory are collected by Pathologists and Hospitals we call them \\n as \"Clients\".\\n v\\n Name - The name is as declared by the client and recored by the personnel who collected the specimen.\\n v\\n Ref.Dr - The name of the doctor who has recommended testing as declared by the client.\\n v\\n Labcode - This is the accession number in our laboratory and it helps us in archiving and retrieving the data.\\n v\\n Barcode - This is the specimen identity number and it states that the results are for the specimen bearing \\n the barcode (irrespective  of the name).\\n v\\n SCP - Specimen Collection Point - This is the location where the blood or specimen was collected as declared by \\n the client.\\n v\\n SCT - Specimen Collection Time - The time when specimen was collected as declared by the client.\\n v\\n SRT - Specimen Receiving Time - This time when the specimen reached our laboratory.\\n v\\n RRT - Report Releasing Time - The time when our pathologist has released the values for Reporting.\\n v\\n Reference Range - Means the range of values in which 95% of the normal population would fall.\\n EXPLANATIONS\\n SUGGESTIONS\\n      \\n v\\n Values out of reference range requires reconfirmation before starting any medical treatment.\\n v\\n Retesting is needed if you suspect any quality shortcomings.\\n v\\n Testing or retesting should be done in accredited laboratories.\\n v\\n For suggestions, complaints or feedback, write to us at info@thyrocare.com or call us on \\n \\n 022-3090 0000 / 6712 3400\\n v\\n SMS:<Labcode No.> to 9870666333\\nPage : 19 of 19\\n')]\n"
     ]
    }
   ],
   "source": [
    "print(pages_py)"
   ]
  },
  {
   "cell_type": "code",
   "execution_count": 1,
   "metadata": {},
   "outputs": [],
   "source": [
    "from langchain.schema import Document"
   ]
  },
  {
   "cell_type": "code",
   "execution_count": 2,
   "metadata": {},
   "outputs": [],
   "source": [
    "import pandas as pd"
   ]
  },
  {
   "cell_type": "code",
   "execution_count": 3,
   "metadata": {},
   "outputs": [
    {
     "data": {
      "text/plain": [
       "True"
      ]
     },
     "execution_count": 3,
     "metadata": {},
     "output_type": "execute_result"
    }
   ],
   "source": [
    "from dotenv import load_dotenv\n",
    "load_dotenv()"
   ]
  },
  {
   "cell_type": "code",
   "execution_count": 4,
   "metadata": {},
   "outputs": [],
   "source": [
    "import os\n",
    "os.environ[\"HF_TOKEN\"] = os.getenv(\"HF_TOKEN\")\n",
    "os.environ[\"GROQ_API_KEY\"] = os.getenv(\"GROQ_API_KEY\")"
   ]
  },
  {
   "cell_type": "code",
   "execution_count": 5,
   "metadata": {},
   "outputs": [],
   "source": [
    "GROQ_API_KEY= os.getenv(\"GROQ_API_KEY\")"
   ]
  },
  {
   "cell_type": "code",
   "execution_count": 6,
   "metadata": {},
   "outputs": [],
   "source": [
    "import pytesseract\n",
    "from PIL import Image\n",
    "from pdf2image import convert_from_path\n",
    "import os\n",
    "\n",
    "# Path to the PDF file\n",
    "pdf_file = \"../uploads\\\\7210843.pdf\"\n",
    "\n",
    "# Convert PDF to images\n",
    "images = convert_from_path(pdf_file, dpi=300)\n",
    "\n",
    "content = []\n",
    "page_num = []\n",
    "\n",
    "\n",
    "# Iterate through pages\n",
    "for i, image in enumerate(images):\n",
    "    # Perform OCR on the image\n",
    "\n",
    "    text = pytesseract.image_to_string(image)\n",
    "    #page_num\n",
    "    page_num.append(i+1)\n",
    "    # page_content = text   \n",
    "    content.append(text)\n",
    "\n",
    "# Directory where images will be saved\n",
    "output_dir = '../output_directory'\n",
    "\n",
    "# Ensure the output directory exists\n",
    "if not os.path.exists(output_dir):\n",
    "    os.makedirs(output_dir, exist_ok= True)\n",
    "\n",
    "# Save each page as an image\n",
    "for i, page in enumerate(images):\n",
    "    image_path = os.path.join(output_dir, f'page_{i + 1}.png')\n",
    "    page.save(image_path, 'PNG')\n",
    "    "
   ]
  },
  {
   "cell_type": "code",
   "execution_count": 7,
   "metadata": {},
   "outputs": [],
   "source": [
    "data = pd.DataFrame({\n",
    "    \"page\": page_num,\n",
    "    \"content\": content\n",
    "})"
   ]
  },
  {
   "cell_type": "code",
   "execution_count": 8,
   "metadata": {},
   "outputs": [
    {
     "data": {
      "text/html": [
       "<div>\n",
       "<style scoped>\n",
       "    .dataframe tbody tr th:only-of-type {\n",
       "        vertical-align: middle;\n",
       "    }\n",
       "\n",
       "    .dataframe tbody tr th {\n",
       "        vertical-align: top;\n",
       "    }\n",
       "\n",
       "    .dataframe thead th {\n",
       "        text-align: right;\n",
       "    }\n",
       "</style>\n",
       "<table border=\"1\" class=\"dataframe\">\n",
       "  <thead>\n",
       "    <tr style=\"text-align: right;\">\n",
       "      <th></th>\n",
       "      <th>page</th>\n",
       "      <th>content</th>\n",
       "    </tr>\n",
       "  </thead>\n",
       "  <tbody>\n",
       "    <tr>\n",
       "      <th>0</th>\n",
       "      <td>1</td>\n",
       "      <td>PROCESSED AT:\\n\\nThyrocare, Thyro C are\\n\\n5CA...</td>\n",
       "    </tr>\n",
       "    <tr>\n",
       "      <th>1</th>\n",
       "      <td>2</td>\n",
       "      <td>PROCESSED AT:\\n\\nThyrocare, Thyro C are\\n\\n5CA...</td>\n",
       "    </tr>\n",
       "    <tr>\n",
       "      <th>2</th>\n",
       "      <td>3</td>\n",
       "      <td>PROCESSED AT:\\nThyrocare,\\n\\n5CA-711, 3rd Floo...</td>\n",
       "    </tr>\n",
       "    <tr>\n",
       "      <th>3</th>\n",
       "      <td>4</td>\n",
       "      <td>PROCESSED AT:\\nThyrocare,\\n\\n5CA-711, 3rd Floo...</td>\n",
       "    </tr>\n",
       "    <tr>\n",
       "      <th>4</th>\n",
       "      <td>5</td>\n",
       "      <td>Thyrocare, Thyrocare’\\n\\n5CA-711, 3rd Floor,\\n...</td>\n",
       "    </tr>\n",
       "  </tbody>\n",
       "</table>\n",
       "</div>"
      ],
      "text/plain": [
       "   page                                            content\n",
       "0     1  PROCESSED AT:\\n\\nThyrocare, Thyro C are\\n\\n5CA...\n",
       "1     2  PROCESSED AT:\\n\\nThyrocare, Thyro C are\\n\\n5CA...\n",
       "2     3  PROCESSED AT:\\nThyrocare,\\n\\n5CA-711, 3rd Floo...\n",
       "3     4  PROCESSED AT:\\nThyrocare,\\n\\n5CA-711, 3rd Floo...\n",
       "4     5  Thyrocare, Thyrocare’\\n\\n5CA-711, 3rd Floor,\\n..."
      ]
     },
     "execution_count": 8,
     "metadata": {},
     "output_type": "execute_result"
    }
   ],
   "source": [
    "data.head()"
   ]
  },
  {
   "cell_type": "code",
   "execution_count": 9,
   "metadata": {},
   "outputs": [],
   "source": [
    "data_list = []\n",
    "for index, row in data.iterrows():\n",
    "        # Construct an Object with 'product_name' and 'review' attributes\n",
    "        object = {\n",
    "        'page': row['page'],\n",
    "        'content': row['content']\n",
    "        }\n",
    "        # Append the object to the list\n",
    "        data_list.append(object)\n",
    "\n",
    "docs = []\n",
    "\n",
    "for entry in data_list:\n",
    "    metadata = {\"source\": pdf_file, \"file_path\": pdf_file, 'total_pages': len(page_num), 'format': 'PDF 1.4', 'title': '', \"page\": entry['page']}\n",
    "    doc = Document(page_content= entry['content'], metadata= metadata)\n",
    "    docs.append(doc)    \n",
    "    \n"
   ]
  },
  {
   "cell_type": "code",
   "execution_count": 10,
   "metadata": {},
   "outputs": [
    {
     "data": {
      "text/plain": [
       "[Document(metadata={'source': '../uploads\\\\7210843.pdf', 'file_path': '../uploads\\\\7210843.pdf', 'total_pages': 19, 'format': 'PDF 1.4', 'title': '', 'page': 1}, page_content='PROCESSED AT:\\n\\nThyrocare, Thyro C are\\n\\n5CA-711, 3rd Floor,\\nHRBR 2nd Block, The Trust. The Truth.\\n\\nHennur, Bengaluru-560043\\n\\nCorporate office : Thyrocare Technologies Limited, 9 D-37/3, TTC MIDC, Turbhe, Navi Mumbai - 400 703\\n© 022 - 3090 0000 / 67123400 {99870666333 i wellness@thyrocare.com ) www.thyrocare.com\\n\\nNAME : VIVEK BARNWAL(32Y/M) HOME COLLECTION :\\n\\nREF. BY » SELF FLAT NO - B-106 TRIFECTA STARLIGHT APARTMENT\\nTEST ASKED \" AAROGYAM 1.3 GARUDCHARPALYA MAHADEVPURA 560048\\nPATIENTID : VB18181374\\n\\nTEST NAME TECHNOLOGY VALUE UNITS\\nCYSTATIN C IMMUNOTURBIDIMETRY 0.83 mg/L\\n\\nReference Range :-\\n\\n<= 60 years: <= 1.03 mg/L\\n> 60 years : < 1.50 mg/L\\n\\nClinical significance\\n\\nCystatin c, is a small 13-kda protein and is a member of the cysteine proteinase inhibitor family, it is produced at a constant rate by all\\nnucleated cells. Due to its small size it is freely filtered by the glomerulus and is not secreted but is fully reabsorbed and broken down\\nby the renal tubules. This means that the primary determinate of blood Cystatin c levels is the rate at which it is filtered at the\\nglomerulus making it an excellent gfr marker. Cystatin c is also a marker of inflammation and like many other markers of\\ninflammation; its serum concentration may be higher in patients with decreased renal clearance. There is mounting evidence, however,\\nthat Cystatin c may be a predictor of adverse outcomes independent of renal function with its higher sensitivity to detect a reduced\\nGFR than Creatinine determination, also in the so-called “Creatinine-blind” range. Thus, Cystatin c is suggested to be a better marker\\nfor GFR than the ubiquitous serum Creatinine.\\n\\nReference\\n\\n1. Barrett aj, Davies me, Grubb a. the place of human gamma-trace (Cystatin c) among the cysteine proteinase inhibitors. Biochem\\nbiophys res common 1984; 120: 631-6.\\n\\n2. Grubb a. diagnostic value of analysis of Cystatin c and protein HC in biological fluids. Clin Nephrol 1992; 38: S20-7.\\nPlease correlate with clinical conditions.\\nMethod:- LATEX ENHANCED IMMUNOTURBIDIMETRY\\n\\nSample Collected on (SCT) : 31 Dec 2021 10:40\\n\\nSample Received on (SRT) : 31 Dec 2021 14:17 Coch ete?\\n\\nReport Released on (RRT) : 31 Dec 2021 18:15 “\\n\\nSample Type : , SERUM -\\n\\nLabcode . 3112070884/DS318 Dr.Prachi Sinkar MD(Path) Dr.Caesar Sengupta MD(Micro)\\nBarcode : X3673282 Page : 1 of 19\\n\\n'),\n",
       " Document(metadata={'source': '../uploads\\\\7210843.pdf', 'file_path': '../uploads\\\\7210843.pdf', 'total_pages': 19, 'format': 'PDF 1.4', 'title': '', 'page': 2}, page_content='PROCESSED AT:\\n\\nThyrocare, Thyro C are\\n\\n5CA-711, 3rd Floor,\\nHRBR 2nd Block, The Trust. The Truth.\\nHennur, Bengaluru-560043\\n\\nCorporate office : Thyrocare Technologies Limited, 9 D-37/3, TTC MIDC, Turbhe, Navi Mumbai - 400 703\\n© 022 - 3090 0000 / 67123400 {99870666333 i wellness@thyrocare.com ( www.thyrocare.com\\n\\nNAME : VIVEK BARNWAL(32Y/M) HOME COLLECTION :\\n\\nREF. BY » SELF FLAT NO - B-106 TRIFECTA STARLIGHT APARTMENT\\nTEST ASKED \" AAROGYAM 1.3 GARUDCHARPALYA MAHADEVPURA 560048\\nPATIENTID : VB18181374\\n\\nTEST NAME TECHNOLOGY VALUE UNITS\\nHOMOCYSTEINE PHOTOMETRY 20.21 umol/L\\n\\nReference Range :-\\n\\n< 30\\n\\nClinical Significance:\\nHomocysteine is linked to increased risk of premature coronary artery disease, stroke and thromboembolism. Moreover, alzheimer’s\\n\\ndisease, osteoporosis, venous thrombosis, schizophrenia, cognitive deficiency and pregnancy complications also elevates Homocysteine\\nlevels.\\n\\nHigh Values:\\n\\nElevated homocysteine levels might be due to increasing age, genetic traits, drugs, renal dysfunction and dietary deficiency of vitamins\\nor smoking. To lower your homocysteine, eat more green vegetables, stop smoking, alcohol. Folic acid helps lowering elevated levels.\\nPlease correlate with clinical conditions.\\nMethod:- ENZYMATIC ASSAY\\n\\nSample Collected on (SCT) : 31 Dec 2021 10:40\\n\\nSample Received on (SRT) : 31 Dec 2021 14:17 Cochdte?\\n\\nReport Released on (RRT) : 31 Dec 2021 18:15 ia\\n\\nSample Type . SERUM -\\n\\nLabcode . 3112070884/DS318 Dr.Prachi Sinkar MD(Path) Dr.Caesar Sengupta MD(Micro)\\n\\nBarcode : X3673282 Page : 2 of 19\\n'),\n",
       " Document(metadata={'source': '../uploads\\\\7210843.pdf', 'file_path': '../uploads\\\\7210843.pdf', 'total_pages': 19, 'format': 'PDF 1.4', 'title': '', 'page': 3}, page_content='PROCESSED AT:\\nThyrocare,\\n\\n5CA-711, 3rd Floor,\\n\\nHRBR 2nd Block,\\n\\nHennur, Bengaluru-560043\\n\\nThyrocare\\n\\nThe Trust. The Truth.\\n\\nCorporate office : Thyrocare Technologies Limited, 9 D-37/3, TTC MIDC, Turbhe, Navi Mumbai - 400 703\\n\\nNAME : VIVEK BARNWAL(32Y/M) HOME COLLECTION :\\nREF. BY : SELF\\n\\nTEST ASKED : AAROGYAM 1.3 560048\\n\\nPATIENTID : VB18181374\\n\\nTEST NAME TECHNOLOGY VALUE\\n\\n25-OH VITAMIN D (TOTAL)\\nReference Range :\\n\\nDEFICIENCY : <20 ng/ml\\nINSUFFICIENCY : 20-<30 ng/ml\\nSUFFICIENCY : 30-100 ng/ml\\nTOXICITY : >100 ng/ml\\n\\n© 022 - 3090 0000 / 6712 3400 © 9870666333\\n\\nC.L.I.A\\n\\n&% wellness@thyrocare.com @P www.thyrocare.com\\n\\nFLAT NO - B-106 TRIFECTA STARLIGHT\\n\\nAPARTMENT GARUDCHARPALYA MAHADEVPURA\\n\\n16.51\\n\\nUNITS\\n\\nng/ml\\n\\nVitamin D Total test is analyzed on Siemens ADVIA Centaur, standardized against ID-LC/MS/MS, as per Vitamin D Standardization\\n\\nProgram (VDSP).\\n\\nSpecifications: Intra assay (%CV):5.3%, Inter assay (%CV):11.9% ; Sensitivity:3.2 ng/ml\\nMethod : FULLY AUTOMATED CHEMI LUMINESCENT IMMUNO ASSAY\\n\\nVITAMIN B-12\\n\\nReference Range :\\nNormal : 211 - 911 pg/ml\\n\\nClinical significance :\\n\\nC.L.1.A\\n\\n228\\n\\npg/ml\\n\\nVitamin B12 or cyanocobalamin, is a complex corrinoid compound found exclusively from animal dietary sources, such as meat, eggs\\nand milk. It is critical in normal DNA synthesis, which in turn affects erythrocyte maturation and in the formation of myelin sheath.\\nVitamin-B12 is used to find out neurological abnormalities and impaired DNA synthesis associated with macrocytic anemias. For\\ndiagnostic purpose, results should always be assessed in conjunction with the patients medical history, clinical examination and\\n\\nother findings.\\n\\nSpecifications: Intra assay (%CV):5.0%, Inter assay (%CV):9.2 %;Sensitivity:45 pg/ml\\n\\nExternal quality control program participation:\\nCollege of American pathologists: ligand assay (general) survey; CAP number: 7193855-01\\n\\nKit validation references:\\n\\nChen IW,Sperling MI,Heminger IA.Vitamin B12.In:Pesce AJ,Kalpan LA,editors.Methods in clinical chemistry. St.Louis:CV\\n\\nMosby,1987.P.569-73.\\n\\nMethod : _ FULLY AUTOMATED BIDIRECTIONALLY INTERFACED CHEMI LUMINESCENT IMMUNO ASSAY\\nPlease correlate with clinical conditions.\\n\\nSample Collected on (SCT)\\nSample Received on (SRT)\\nReport Released on (RRT)\\nSample Type\\n\\nLabcode\\n\\nBarcode\\n\\n731 Dec 2021 10:40\\n: 31 Dec 2021 14:17\\n:31 Dec 2021 18:15\\n: SERUM\\n:3112070884/DS318\\n: X3673282\\n\\nGoo be\\n\\nDr.Prachi Sinkar MD(Path)\\n\\nDr.Caesar Sengupta MD(Micro)\\n\\nPage : 3 of 19\\n'),\n",
       " Document(metadata={'source': '../uploads\\\\7210843.pdf', 'file_path': '../uploads\\\\7210843.pdf', 'total_pages': 19, 'format': 'PDF 1.4', 'title': '', 'page': 4}, page_content='PROCESSED AT:\\nThyrocare,\\n\\n5CA-711, 3rd Floor,\\n\\nHRBR 2nd Block,\\n\\nHennur, Bengaluru-560043\\n\\nThyrocare\\n\\nThe Trust. The Truth.\\n\\nCorporate office : Thyrocare Technologies Limited, 9 D-37/3, TTC MIDC, Turbhe, Navi Mumbai - 400 703\\n3400 (9870666333 i wellness@thyrocare.com €) www.thyrocare.com\\n\\n© 022 - 3090 0000 / 6712\\n\\nAPOLIPOPROTEIN - Al (APO-A1)\\nReference Range :\\n\\nMALE : 86-152\\n\\nFEMALE : 94-162\\n\\nNAME : VIVEK BARNWAL(32Y/M) HOME COLLECTION :\\n. FLAT NO - B-106 TRIFECTA STARLIGHT\\n\\nREF. BY ¢ SELF APARTMENT GARUDCHARPALYA MAHADEVPURA\\n\\nTEST ASKED : AAROGYAM 1.3 560048\\n\\nPATIENTID : VB18181374\\n\\nTEST NAME TECHNOLOGY VALUE\\n\\nIMMUNOTURBIDIMETRY 136\\n\\nMethod : FULLY AUTOMATED RATE IMMUNOTURBIDIMETRY - BECKMAN COULTER\\n\\nAPOLIPOPROTEIN - B (APO-B)\\nReference Range :\\n\\nMALE : 56-145\\n\\nFEMALE : 53-138\\n\\nIMMUNOTURBIDIMETRY 97\\n\\nMethod : FULLY AUTOMATED RATE IMMUNOTURBIDIMETRY —- BECKMAN COULTER\\nAPO B / APO Ai RATIO (APO B/A1) CALCULATED 0.7\\n\\nReference Range :\\nMALE : 0.40 - 1.26\\n\\nFEMALE : 0.38 - 1.14\\n\\nMethod : DERIVED FROM SERUM APO Ai AND APO B_ VALUES\\nPlease correlate with clinical conditions.\\n\\nSample Collected on (SCT)\\nSample Received on (SRT)\\nReport Released on (RRT)\\nSample Type\\n\\nLabcode\\n\\nBarcode\\n\\n=31 Dec 2021 10:40\\n\\n: 31 Dec 2021 14:17 cheer?\\n: 31 Dec 2021 18:15 ia\\n: SERUM\\n\\n:3112070884/DS318 Dr.Prachi Sinkar MD(Path)\\n: X3673282\\n\\nUNITS\\n\\nmg/dL\\n\\nmg/dL\\n\\nRatio\\n\\nDr.Caesar Sengupta MD(Micro)\\n\\nPage : 4 of 19\\n'),\n",
       " Document(metadata={'source': '../uploads\\\\7210843.pdf', 'file_path': '../uploads\\\\7210843.pdf', 'total_pages': 19, 'format': 'PDF 1.4', 'title': '', 'page': 5}, page_content='Thyrocare, Thyrocare’\\n\\n5CA-711, 3rd Floor,\\nHRBR 2nd Block, The Trust. The Truth.\\n\\nHennur, Bengaluru-560043\\n\\nCorporate office : Thyrocare Technologies Limited, 9 D-37/3, TTC MIDC, Turbhe, Navi Mumbai - 400 703\\n© 022 - 3090 0000 / 67123400 {99870666333 i wellness@thyrocare.com (® www.thyrocare.com\\n\\nNAME : VIVEK BARNWAL(32Y/M) HOME COLLECTION :\\n\\nREF. BY » SELF FLAT NO - B-106 TRIFECTA STARLIGHT APARTMENT\\nTEST ASKED \" AAROGYAM 1.3 GARUDCHARPALYA MAHADEVPURA 560048\\nPATIENTID : VB18181374\\n\\nTEST NAME TECHNOLOGY VALUE UNITS\\nHIGH SENSITIVITY C-REACTIVE PROTEIN (HS-CRP) IMMUNOTURBIDIMETRY 1.71 mg/L\\n\\nReference Range :-\\n\\nADULT : <=3.0 MG/L\\nINTERPRETATION:\\n\\nHIGH SENSITIVITY C-REACTIVE PROTEIN, WHEN USED IN CONJUNCTION WITH OTHER CLINICAL LABORATORY EVALUATION OF ACUTE\\nCORONARY SYNDROMES, MAY BE USEFUL AS AN INDEPENDENT MARKER OF PROGNOSIS FOR RECURRENT EVENTS, IN PATIENTS\\nWITH STABLE CORONARY DISEASE OR ACUTE CORONARY SYNDROMES. HSCRP LEVELS SHOULD NOT BE SUBSTITUTED FOR\\nASSESSMENT OF TRADITIONAL CARDIOVASCULAR RISK FACTORS. PATIENTS WITH PERSISTENTLY UNEXPLAINED, MARKED\\nEVALUATION OF HSCRP AFTER REPEATED TESTING SHOULD BE EVALUATED FOR NON - CARDIOVASCULAR ETIOLOGIES\\n\\nCLINICAL SIGNIFICANCE:\\n\\nHSCRP MEASUREMENTS MAY BE USED AS AN INDEPENDENT RISK MARKER FOR THE IDENTIFICATION OF INDIVIDUALS AT RISK FOR\\nFUTURE CARDIOVASCULAR DISEASE. ELEVATED CRP VALUES MAY BE INDICATIVE OF PROGNOSIS OF INDIVIDUALS WITH ACUTE\\nCORONARY SYNDROMES, AND MAY BE USEFUL IN THE MANAGEMENT OF SUCH INDIVIDUALS.\\n\\nSPECIFICATIONS: PRECISION: WITHIN RUN %CV HAS BEEN RECORDED <=5%.\\n\\nREFERENCES:\\n\\n1. CHENILLOT O, HENNY J, STEINMEZ J, ET AL. HIGH SENSITIVITY C-REACTIVE PROTEIN: BIOLOGICAL VARIATIONS AND REFERENCE\\nLIMITS. CLIN CHEM LAB MED 2000;38:1003-11.\\n\\n2. HIND CRH, PEPYS MB. THE ROLE OF SERUM C-REACTIVE PROTEIN MEASUREMENTS IN CLINICAL PRACTICE. INT MED\\n1984;5:112-51.\\n\\nPlease correlate with clinical conditions.\\n\\nMethod:- FULLY AUTOMATED LATEX AGGLUTINATION - BECKMAN COULTER\\n\\nSample Collected on (SCT) : 31 Dec 2021 10:40\\n\\nSample Received on (SRT) : 31 Dec 2021 14:17 Qo\\n\\nReport Released on (RRT) : 31 Dec 2021 18:15 a“\\n\\nSample Type . SERUM -\\n\\nLabcode . 3112070884/DS318 Dr.Prachi Sinkar MD(Path) Dr.Caesar Sengupta MD(Micro)\\n\\nBarcode : X3673282 Page : 5 of 19\\n'),\n",
       " Document(metadata={'source': '../uploads\\\\7210843.pdf', 'file_path': '../uploads\\\\7210843.pdf', 'total_pages': 19, 'format': 'PDF 1.4', 'title': '', 'page': 6}, page_content='Thyrocare, Thyrocare\\n\\n5CA-711, 3rd Floor,\\nHRBR 2nd Block, The Trust. The Truth.\\n\\nHennur, Bengaluru-560043\\n\\nCorporate office : Thyrocare Technologies Limited, 9 D-37/3, TTC MIDC, Turbhe, Navi Mumbai - 400 703\\n© 022 - 3090 0000 / 67123400 {99870666333 i wellness@thyrocare.com ) www.thyrocare.com\\n\\nNAME : VIVEK BARNWAL(32Y/M) HOME COLLECTION :\\n\\nREF. BY . SELF FLAT NO - B-106 TRIFECTA STARLIGHT APARTMENT\\nTEST ASKED  AAROGYAM 1.3 GARUDCHARPALYA MAHADEVPURA 560048\\nPATIENTID : VB18181374\\n\\nTEST NAME TECHNOLOGY VALUE UNITS\\nLIPOPROTEIN (A) [LP(A)] IMMUNOTURBIDIMETRY 33.01 mg/dl\\n\\nReference Range :-\\n\\nADULTS : < 30.0 MG/DL\\n\\nINTERPRETATION:\\n\\nDETERMINATION OF LPA MAY BE USEFUL TO GUIDE MANAGEMENT OF INDIVIDUALS WITH A FAMILY HISTORY OF CHD OR WITH\\nEXISTING DISEASE. THE LEVELS OF LPA IN THE BLOOD DEPENDS ON GENETIC FACTORS; THE RANGE OF VARIATION IN A\\nPOPULATION IS RELATIVELY LARGE AND HENCE FOR DIAGNOSTIC PURPOSE, RESULTS SHOULD ALWAYS BE ASSESSED IN\\nCONJUNCTION WITH THE PATIENT’S MEDICAL HISTORY, CLINICAL EXAMINATION AND OTHER FINDINGS.\\n\\nSPECIFICATIONS:\\n\\nPRECISION: INTRA ASSAY (%CV): 3.4 %, INTER ASSAY (%CV): 2.0 %; SENSITIVITY: 0.002 GM/L\\n\\nEXTERNAL QUALITY CONTROL PROGRAM PARTICIPATION:\\n\\nCOLLEGE OF AMERICAN PATHOLOGISTS: GENERAL CHEMISTRY AND TDM; CAP NUMBER: 7193855-01\\n\\nKIT VALIDATION REFERENCES:\\n\\nKOSCHINSKY ML, MARCOVINA SM. LIPOPROTEIN A: STRUCTURAL IMPLICATION FOR PATHOPHYSIOLOGY. INT J CLIN LAB RES, 1997;\\n\\n27: 14-23.\\n\\nPlease correlate with clinical conditions.\\nMethod:- LATEX ENHANCED IMMUNOTURBIDIMETRY\\n\\nSample Collected on (SCT) : 31 Dec 2021 10:40\\n\\nSample Received on (SRT) : 31 Dec 2021 14:17 Coch ete?\\n\\nReport Released on (RRT) : 31 Dec 2021 18:15 a“\\n\\nSample Type . SERUM -\\n\\nLabcode . 3112070884/DS318 Dr.Prachi Sinkar MD(Path) Dr.Caesar Sengupta MD(Micro)\\n\\nBarcode : X3673282 Page : 6 of 19\\n'),\n",
       " Document(metadata={'source': '../uploads\\\\7210843.pdf', 'file_path': '../uploads\\\\7210843.pdf', 'total_pages': 19, 'format': 'PDF 1.4', 'title': '', 'page': 7}, page_content='PROCESSED AT:\\n\\nThyrocare, Thyro C are\\n\\n5CA-711, 3rd Floor,\\nHRBR 2nd Block, The Trust. The Truth.\\n\\nHennur, Bengaluru-560043\\n\\nCorporate office : Thyrocare Technologies Limited, 9 D-37/3, TTC MIDC, Turbhe, Navi Mumbai - 400 703\\n© 022 - 3090 0000 / 67123400 {99870666333 i wellness@thyrocare.com ( www.thyrocare.com\\n\\nNAME : VIVEK BARNWAL(32Y/M) HOME COLLECTION :\\n\\nREF. BY » SELF FLAT NO - B-106 TRIFECTA STARLIGHT APARTMENT\\nTEST ASKED  AAROGYAM 1.3 GARUDCHARPALYA MAHADEVPURA 560048\\nPATIENTID : VB18181374\\n\\nTEST NAME TECHNOLOGY VALUE UNITS\\nSERUM COPPER PHOTOMETRY 110.47 g/dL\\n\\nReference Range :-\\n\\nMALE : 63.5 - 150\\nFEMALE: 80 - 155\\n\\nCLINICAL SIGNIFICANCE\\n\\nCOPPER IS AN IMPORTANT TRACE ELEMENT AND A COMPONENT OF NUMEROUS ENZYMES AND PROTEINS INVOLVED IN ENERGY\\nPRODUCTION, CONNECTIVE TISSUE FORMATION, MELANIN SYNTHESIS, IRON METABOLISM, DEVELOPMENT OF CENTRAL NERVOUS\\nSYSTEM, ANGIOGENESIS AS WELL AS AN ANTIOXIDANT.\\n\\nDEFICIENCY CAN CAUSE - MALNOURISHMENT, CARDIOVASCULAR DISEASE, ANEMIA & NEUROPATHY. TOXICITY MAY BE MANIFESTED\\nAS ACUTE RENAL FAILURE, GASTROENTERITIS & CHRONIC LIVER DISEASE.\\n\\nREFERENCE: CARL A. BURTIS, EDWARD R. ASHWOOD, DAVID E. BRUNS. TIETZ TEXTBOOK OF CLINICAL CHEMISTRY AND MOLECULAR\\nDIAGNOSTICS. CHAPTER 31.VITAMINS AND TRACE ELEMENTS. PAGE: 948-952.\\n\\nPlease correlate with clinical conditions.\\n\\nMethod:- 3,5-DIBR-PAESA\\n\\nSample Collected on (SCT) : 31 Dec 2021 10:40\\n\\nSample Received on (SRT) : 31 Dec 2021 14:17 Cochdte?\\n\\nReport Released on (RRT) : 31 Dec 2021 18:15 a“\\n\\nSample Type . SERUM -\\n\\nLabcode . 3112070884/DS318 Dr.Prachi Sinkar MD(Path) Dr.Caesar Sengupta MD(Micro)\\n\\nBarcode : X3673282 Page : 7 of 19\\n'),\n",
       " Document(metadata={'source': '../uploads\\\\7210843.pdf', 'file_path': '../uploads\\\\7210843.pdf', 'total_pages': 19, 'format': 'PDF 1.4', 'title': '', 'page': 8}, page_content=\"PROCESSED AT:\\n\\nThyrocare, Thyro C are\\n\\n5CA-711, 3rd Floor,\\nHRBR 2nd Block, The Trust. The Truth.\\n\\nHennur, Bengaluru-560043\\n\\nCorporate office : Thyrocare Technologies Limited, 9 D-37/3, TTC MIDC, Turbhe, Navi Mumbai - 400 703\\n© 022 - 3090 0000 / 67123400 {99870666333 i wellness@thyrocare.com ( www.thyrocare.com\\n\\nNAME : VIVEK BARNWAL(32Y/M) HOME COLLECTION :\\n\\nREF. BY » SELF FLAT NO - B-106 TRIFECTA STARLIGHT APARTMENT\\nTEST ASKED  AAROGYAM 1.3 GARUDCHARPALYA MAHADEVPURA 560048\\nPATIENTID : VB18181374\\n\\nTEST NAME TECHNOLOGY VALUE UNITS\\nSERUM ZINC PHOTOMETRY 119.84 g/dL\\n\\nReference Range :-\\n\\n52 - 286\\n\\nCLINICAL SIGNIFICANCE\\nZINC IS ONE OF THE ESSENTIAL TRACE ELEMENTS IN THE BODY. ITS METALLOENZYMES PLAY A KEY ROLE IN PROTEIN AND NUCLEIC\\nACID SYNTHESIS, GENE EXPRESSION, WOUND HEALING, AS AN ANTIOXIDANT, ETC.\\n\\nDEFICIENCY CAN CAUSE - POOR WOUND HEALING, GASTROENTERITIS, IMPAIRED SPERMATOGENESIS, ALZHEIMER'S DISEASE, ETC.\\nTOXICITY MAY BE MANIFESTED AS PANCREATITIS, GASTRIC ULCER, ANEMIA, PULMONARY FIBROSIS.\\n\\nREFERENCE: CARL A. BURTIS, EDWARD R. ASHWOOD, DAVID E. BRUNS. TIETZ TEXTBOOK OF CLINICAL CHEMISTRY AND MOLECULAR\\nDIAGNOSTICS. CHAPTER 31.VITAMINS AND TRACE ELEMENTS. PAGE:960-965.\\n\\nPlease correlate with clinical conditions.\\n\\nMethod:- NITRO - PAPS\\n\\nSample Collected on (SCT) : 31 Dec 2021 10:40\\n\\nSample Received on (SRT) : 31 Dec 2021 14:17 Cochdte?\\n\\nReport Released on (RRT) : 31 Dec 2021 18:15 a“\\n\\nSample Type . SERUM -\\n\\nLabcode . 3112070884/DS318 Dr.Prachi Sinkar MD(Path) Dr.Caesar Sengupta MD(Micro)\\n\\nBarcode : X3673282 Page : 8 of 19\\n\"),\n",
       " Document(metadata={'source': '../uploads\\\\7210843.pdf', 'file_path': '../uploads\\\\7210843.pdf', 'total_pages': 19, 'format': 'PDF 1.4', 'title': '', 'page': 9}, page_content='Thyrocare, Thyrocare\\n\\n5CA-711, 3rd Floor,\\nHRBR 2nd Block, The Trust. The Truth.\\n\\nHennur, Bengaluru-560043\\n\\nCorporate office : Thyrocare Technologies Limited, 9 D-37/3, TTC MIDC, Turbhe, Navi Mumbai - 400 703\\n© 022 - 3090 0000 / 67123400 {99870666333 i wellness@thyrocare.com ) www.thyrocare.com\\n\\nNAME : VIVEK BARNWAL(32Y/M) HOME COLLECTION :\\n\\nREF. BY » SELF FLAT NO - B-106 TRIFECTA STARLIGHT APARTMENT\\nTEST ASKED \" AAROGYAM 1.3 GARUDCHARPALYA MAHADEVPURA 560048\\nPATIENTID : VB18181374\\n\\nTEST NAME TECHNOLOGY VALUE UNITS\\nTESTOSTERONE C.L.I.A 529.69 ng/dL\\n\\nReference Range :-\\n\\nAdult Male\\n\\n21-49 Yrs: 164.94 - 753.38\\n\\n50 - 89 Yrs: 86.49 - 788.22\\nAdult Female\\n\\nPre-Menopause : 12.09 - 59.46\\nPost-Menopause: < 7.00 - 48.93\\nBoys\\n\\n2-10 Years : < 7.00 - 25.91\\n11 Years : < 7.00 - 341.53\\n12 Years : < 7.00 - 562.59\\n13 Years : 9.34 - 562.93\\n14 Years : 23.28 - 742.46\\n15 Years : 144.15 - 841.44\\n16-21 Years : 118.22 - 948.56\\nGirls\\n\\n2-10 Years: < 7.00 - 108.30\\n11-15 Years : < 7.00- 48.40\\n16-21 Years : 17.55- 50.41\\n\\nClinical Significance:\\n\\nClinical evaluation of serum testosterone, along with serum LH, assists in evaluation of Hypogonadal males. Major causes of lowered\\ntestosterone in males include Hypogonadotropic hypogonadism, testicular failure Hyperprolactinema, Hypopituitarism some types of\\nliver and kidney diseases and critical illness.\\n\\nSpecifications: Precision: Intra assay (%CV): 8.5 %, Inter assay (%CV): 12.6%; Sensitivity: 7 ng/dL.\\n\\nExternal quality control program participation:\\n\\nCollege of American pathologists: Ligand assay (special) survey; cap number: 7193855-01\\n\\nPlease correlate with clinical conditions.\\n\\nMethod:- FULLY AUTOMATED BIDIRECTIONALLY INTERFACED CHEMI LUMINESCENT IMMUNO ASSAY\\n\\nSample Collected on (SCT) : 31 Dec 2021 10:40\\n\\nSample Received on (SRT) : 31 Dec 2021 14:17 Cochdtn?\\n\\nReport Released on (RRT) : 31 Dec 2021 18:15 a“\\n\\nSample Type . SERUM -\\n\\nLabcode . 3112070884/DS318 Dr.Prachi Sinkar MD(Path) Dr.Caesar Sengupta MD(Micro)\\n\\nBarcode : X3673282 Page : 9 of 19\\n'),\n",
       " Document(metadata={'source': '../uploads\\\\7210843.pdf', 'file_path': '../uploads\\\\7210843.pdf', 'total_pages': 19, 'format': 'PDF 1.4', 'title': '', 'page': 10}, page_content='Thyrocare, Thyrocare’\\n\\n5CA-711, 3rd Floor,\\nHRBR 2nd Block, The Trust. The Truth.\\n\\nHennur, Bengaluru-560043\\n\\nCorporate office : Thyrocare Technologies Limited, 9 D-37/3, TTC MIDC, Turbhe, Navi Mumbai - 400 703\\n© 022 - 3090 0000 / 6712 3400 (99870666333 ia wellness@thyrocare.com @ www.thyrocare.com\\n\\nNAME : VIVEK BARNWAL(32Y/M) HOME COLLECTION :\\n. FLAT NO - B-106 TRIFECTA STARLIGHT\\nREF. BY # SELF APARTMENT GARUDCHARPALYA MAHADEVPURA\\nTEST ASKED : AAROGYAM 1.3 560048\\nPATIENTID : VB18181374\\nTEST NAME TECHNOLOGY VALUE UNITS\\nIRON PHOTOMETRY 85.45 ug/dl\\nReference Range :\\nMale : 65-175\\n\\nFemale : 50 - 170\\nMethod : _FERROZINE METHOD WITHOUT DEPROTEINIZATION\\n\\nTOTAL IRON BINDING CAPACITY (TIBC) PHOTOMETRY 443.02 g/dl\\nReference Range :\\n\\nMale: 225 - 535 ug/dl Female: 215 - 535 yg/dl\\nMethod : _SPECTROPHOTOMETRIC ASSAY\\n\\n% TRANSFERRIN SATURATION CALCULATED 19.29 %\\n\\nReference Range :\\n13-45\\nMethod : _DERIVED FROM IRON AND TIBC VALUES\\n\\nPlease correlate with clinical conditions.\\n\\nSample Collected on (SCT) 131 Dec 2021 10:40\\n\\nSample Received on (SRT) : 31 Dec 2021 14:17 Coe\\n\\nReport Released on (RRT) :31 Dec 2021 18:15 ia\\n\\nSample Type : SERUM -\\n\\nLabcode :3112070884/DS318 Dr.Prachi Sinkar MD(Path) Dr.Caesar Sengupta MD(Micro)\\nBarcode :X3673282\\n\\nPage : 10 of 19\\n'),\n",
       " Document(metadata={'source': '../uploads\\\\7210843.pdf', 'file_path': '../uploads\\\\7210843.pdf', 'total_pages': 19, 'format': 'PDF 1.4', 'title': '', 'page': 11}, page_content='PROCESSED AT:\\n\\nhrocare Thyrocare’\\n\\n5CA-711, 3rd Floor,\\nHRBR 2nd Block, The Trust. The Truth.\\nHennur, Bengaluru-560043\\n\\nCorporate office : Thyrocare Technologies Limited, 9 D-37/3, TTC MIDC, Turbhe, Navi Mumbai - 400 703\\n© 022 - 3090 0000 / 67123400 (9870666333 i wellness@thyrocare.com €@ www.thyrocare.com\\n\\nNAME : VIVEK BARNWAL(32Y/M) HOME COLLECTION :\\n\\nREF. BY - SELF FLAT NO - B-106 TRIFECTA STARLIGHT APARTMENT\\n. GARUDCHARPALYA MAHADEVPURA 560048\\n\\nTEST ASKED : AAROGYAM 1.3\\n\\nPATIENTID : VB18181374\\n\\nTEST NAME TECHNOLOGY VALUE UNITS NORMAL RANGE\\n\\nTOTAL CHOLESTEROL PHOTOMETRY 192 mg/dl < 200\\n\\nHDL CHOLESTEROL - DIRECT PHOTOMETRY 50 mg/dl 40-60\\n\\nTRIGLYCERIDES PHOTOMETRY 96 mg/dl < 150\\n\\nLDL CHOLESTEROL - DIRECT PHOTOMETRY 131 mg/dl < 100\\n\\nTC/ HDL CHOLESTEROL RATIO CALCULATED 3.8 Ratio 3-5\\n\\nLDL / HDL RATIO CALCULATED 2.6 Ratio 1.5-3.5\\n\\nVLDL CHOLESTEROL CALCULATED 19.23 mg/dl 5 - 40\\n\\nNON-HDL CHOLESTEROL CALCULATED 141.92 mg/dl < 160\\n\\nPlease correlate with clinical conditions.\\n\\nMethod :\\n\\nCHOL - Cholesterol Oxidase, Esterase, Peroxidase\\n\\nHCHO - Direct Enzymatic Colorimetric\\n\\nTRIG - Enzymatic, End Point\\n\\nLDL - Direct Measure\\n\\nTC/H - DERIVED FROM SERUM CHOLESTEROL AND HDL VALUES\\nLDL/ - Derived from serum HDL and LDL Values\\n\\nVLDL - DERIVED FROM SERUM TRIGLYCERIDE VALUES\\n\\nNHDL - Derived from serum Cholesterol and HDL values\\n\\n*REFERENCE RANGES AS PER NCEP ATP III GUIDELINES:\\n\\nTOTAL CHOLESTEROL (mg/dl) HDL (mg/dl) = LDL (mg/dl) TRIGLYCERIDES (mg/dl)\\n\\nDESIRABLE <200 LOW <40 OPTIMAL <100 NORMAL <150\\n\\nBORDERLINE HIGH 200-239 HIGH >60 NEAR OPTIMAL 100-129 BORDERLINE HIGH 150-199\\n\\nHIGH >240 BORDERLINE HIGH 130-159 HIGH 200-499\\nHIGH 160-189 VERY HIGH >500\\nVERY HIGH >190\\n\\nAlert !!! 10-12 hours fasting is mandatory for lipid parameters. If not, values might fluctuate.\\n\\nSample Collected on (SCT) : 31 Dec 2021 10:40 |\\n\\nSample Received on (SRT) : 31 Dec 2021 14:17 Qo\\n\\nReport Released on (RRT) : 31 Dec 2021 18:15 a“\\n\\nSample Type : SERUM a\\n\\nLabcode : 3112070884/DS318 Dr.Prachi Sinkar MD(Path) Dr.Caesar Sengupta MD(Micro)\\n\\nBarcode » X3673282 Page : 11 of 19\\n'),\n",
       " Document(metadata={'source': '../uploads\\\\7210843.pdf', 'file_path': '../uploads\\\\7210843.pdf', 'total_pages': 19, 'format': 'PDF 1.4', 'title': '', 'page': 12}, page_content='PROCESSED AT : Th 5\\nThyrocare, yIrO C are\\n5CA-711, 3rd Floor,\\nHRBR 2nd Block, The Trust. The Truth.\\nHennur, Bengaluru-560043\\n\\nCorporate office : Thyrocare Technologies Limited, 9 D-37/3, TTC MIDC, Turbhe, Navi Mumbai - 400 703\\n© 022 - 3090 0000 / 6712 3400 (99870666333 i wellness@thyrocare.com ) www.thyrocare.com\\n\\nNAME : VIVEK BARNWAL(32Y/M) HOME COLLECTION :\\n\\nREF. BY » SELF FLAT NO - B-106 TRIFECTA STARLIGHT APARTMENT\\nGARUDCHARPALYA MAHADEVPURA 560048\\n\\nTEST ASKED : AAROGYAM 1.3\\n\\nPATIENTID : VB18181374\\n\\nTEST NAME TECHNOLOGY VALUE UNITS NORMAL RANGE\\n\\nALKALINE PHOSPHATASE PHOTOMETRY 91.04 U/L 45 - 129\\n\\nBILIRUBIN -DIRECT PHOTOMETRY 0.26 mg/dl < 0.3\\n\\nBILIRUBIN - TOTAL PHOTOMETRY 0.84 mg/dl 0.3-1.2\\n\\nBILIRUBIN (INDIRECT) CALCULATED 0.58 mg/dl 0-0.9\\n\\nGAMMA GLUTAMYL TRANSFERASE (GGT) PHOTOMETRY 37.6 U/I < 55\\n\\nASPARTATE AMINOTRANSFERASE (SGOT ) PHOTOMETRY 272 U/I <35\\n\\nALANINE TRANSAMINASE (SGPT) PHOTOMETRY 93.83 U/I <45\\n\\nPROTEIN - TOTAL PHOTOMETRY 7.99 gm/dl 5.7-8.2\\n\\nALBUMIN - SERUM PHOTOMETRY 4.93 gm/dl 3.2-4.8\\n\\nSERUM GLOBULIN PHOTOMETRY 3.06 gm/dL 2.5-3.4\\n\\nSERUM ALB/GLOBULIN RATIO CALCULATED 1.61 Ratio 0.9-2\\n\\nPlease correlate with clinical conditions.\\n\\nMethod :\\n\\nALKP - Modified IFCC method\\n\\nBILD - Vanadate Oxidation\\n\\nBILT - Vanadate Oxidation\\n\\nBILI - DERIVED FROM SERUM TOTAL AND DIRECT BILIRUBIN VALUES\\nGGT - Modified IFCC method\\n\\nSGOT - IFCC* WITHOUT PYRIDOXAL PHOSPHATE ACTIVATION\\nSGPT - IFCC* WITHOUT PYRIDOXAL PHOSPHATE ACTIVATION\\nPROT - BIURET METHOD\\n\\nSALB - ALBUMIN BCG1METHOD (COLORIMETRIC ASSAY ENDPOINT)\\nSEGB - DERIVED FROM SERUM ALBUMIN AND PROTEIN VALUES\\nA/GR - DERIVED FROM SERUM ALBUMIN AND PROTEIN VALUES\\n\\nSample Collected on (SCT) : 31 Dec 2021 10:40 N\\n\\nSample Received on (SRT) : 31 Dec 2021 14:17 (Ago ole?\\n\\nReport Released on (RRT) : 31 Dec 2021 18:15 a“\\n\\nSample Type : SERUM -\\n\\nLabcode : 3112070884/DS318 Dr.Prachi Sinkar MD(Path) Dr.Caesar Sengupta MD(Micro)\\n\\nBarcode » X3673282 Page : 12 of 19\\n'),\n",
       " Document(metadata={'source': '../uploads\\\\7210843.pdf', 'file_path': '../uploads\\\\7210843.pdf', 'total_pages': 19, 'format': 'PDF 1.4', 'title': '', 'page': 13}, page_content='PROCESSED AT :\\n\\nThyrocare,\\n\\n5CA-711, 3rd Floor,\\n\\nHRBR 2nd Block,\\n\\nHennur, Bengaluru-560043\\nCorporate office : Thyrocare Technologies Limited, 9 D-37/3, TTC MIDC, Turbhe, Navi Mumbai - 400 703\\n\\n© 022 - 3090 0000 / 67123400 {99870666333 ma wellness@thyrocare.com €P www.thyrocare.com\\n\\nThyrocare\\n\\nThe Trust. The Truth.\\n\\nNAME : VIVEK BARNWAL(32Y/M) HOME COLLECTION :\\n. SELF FLAT NO - B-106 TRIFECTA STARLIGHT APARTMENT\\nREF. BY ; GARUDCHARPALYA MAHADEVPURA 560048\\nTEST ASKED : AAROGYAM 1.3\\nPATIENTID ? VB18181374\\nTEST NAME TECHNOLOGY VALUE UNITS REFERENCE RANGE\\nTOTAL TRIIODOTHYRONINE (T3) C.L.L.A 90 ng/d| 60-200\\nTOTAL THYROXINE (T4) C.L.L.A 7.1 ug/dl 45-12\\nTHYROID STIMULATING HORMONE (TSH) C.L.L.A 1.93 ulU/ml  0.3-5.5\\n\\nComments : SUGGESTING THYRONORMALCY\\n\\nPlease correlate with clinical conditions.\\n\\nMethod :\\n\\nT3 - COMPETITIVE CHEMI LUMINESCENT IMMUNO ASSAY\\nT4 - COMPETITIVE CHEMI LUMINESCENT IMMUNO ASSAY\\nTSH - SANDWICH CHEMI LUMINESCENT IMMUNO ASSAY\\n\\nSample Collected on (SCT) : 31 Dec 2021 10:40\\n\\nSample Received on (SRT) : 31 Dec 2021 14:17 |\\n\\nReport Released on (RRT) : 31 Dec 2021 18:15 (echt?\\n\\nSample Type > SERUM a“ “J\\nLabcode : 3112070884/DS318 Dr.Prachi Sinkar MD(Path) —_ Dr.Caesar Sengupta MD(Micro)\\n\\nBarcode : X3673282 Page : 13 of 19\\n'),\n",
       " Document(metadata={'source': '../uploads\\\\7210843.pdf', 'file_path': '../uploads\\\\7210843.pdf', 'total_pages': 19, 'format': 'PDF 1.4', 'title': '', 'page': 14}, page_content='PROCESSED AT:\\n\\nThyrocare, Thyro C are\\n\\n5CA-711, 3rd Floor,\\n\\nHRBR 2nd Block, The Trust. The Truth.\\nHennur, Bengaluru-560043\\n\\nCorporate office : Thyrocare Technologies Limited, 9 D-37/3, TTC MIDC, Turbhe, Navi Mumbai - 400 703\\n© 022 - 3090 0000 / 67123400 (9870666333 i wellness@thyrocare.com €@ www.thyrocare.com\\n\\nNAME : VIVEK BARNWAL(32Y/M) HOME COLLECTION :\\n\\nREF. BY : SELF FLAT NO - B-106 TRIFECTA STARLIGHT APARTMENT\\n: . GARUDCHARPALYA MAHADEVPURA 560048\\n\\nTEST ASKED : AAROGYAM 1.3\\n\\nPATIENTID : VB18181374\\n\\nTEST NAME TECHNOLOGY VALUE UNITS NORMAL RANGE\\n\\nBLOOD UREA NITROGEN (BUN) PHOTOMETRY 10.97 mg/dl 7-25\\n\\nCREATININE - SERUM PHOTOMETRY 0.86 mg/dl 0.6-1.1\\n\\nURIC ACID PHOTOMETRY 6.43 mg/dl 4.2-7.3\\n\\nCALCIUM PHOTOMETRY 10.04 mg/dl 8.8-10.6\\n\\nBUN / SR.CREATININE RATIO CALCULATED 12.76 Ratio 9:1-23:1\\n\\nPlease correlate with clinical conditions.\\n\\nMethod :\\n\\nBUN - KINETIC UV ASSAY.\\n\\nSCRE - CREATININE ENZYMATIC METHOD\\n\\nURIC - Uricase / Peroxidase Method\\n\\nCALC - ARSENAZO III METHOD, END POINT.\\n\\nB/CR - DERIVED FROM SERUM BUN AND CREATININE VALUES\\n\\nSample Collected on (SCT) : 31 Dec 2021 10:40\\n\\nSample Received on (SRT) : 31 Dec 2021 14:17 Coch ete?\\n\\nReport Released on (RRT) : 31 Dec 2021 18:15 a“\\n\\nSample Type : SERUM -\\n\\nLabcode : 3112070884/DS318 Dr.Prachi Sinkar MD(Path) Dr.Caesar Sengupta MD(Micro)\\nBarcode : X3673282\\n\\nPage : 14 of 19\\n'),\n",
       " Document(metadata={'source': '../uploads\\\\7210843.pdf', 'file_path': '../uploads\\\\7210843.pdf', 'total_pages': 19, 'format': 'PDF 1.4', 'title': '', 'page': 15}, page_content='Thyrocare, Thyrocare\\n\\n5CA-711, 3rd Floor,\\nHRBR 2nd Block, The Trust. The Truth.\\n\\nHennur, Bengaluru-560043\\n\\nCorporate office : Thyrocare Technologies Limited, 9 D-37/3, TTC MIDC, Turbhe, Navi Mumbai - 400 703\\n© 022 - 3090 0000 / 67123400 {99870666333 i wellness@thyrocare.com ) www.thyrocare.com\\n\\nNAME : VIVEK BARNWAL(32Y/M) HOME COLLECTION :\\n\\nREF. BY » SELF FLAT NO - B-106 TRIFECTA STARLIGHT APARTMENT\\nTEST ASKED \" AAROGYAM 1.3 GARUDCHARPALYA MAHADEVPURA 560048\\nPATIENTID : VB18181374\\n\\nTEST NAME TECHNOLOGY VALUE UNITS\\n\\nEST. GLOMERULAR FILTRATION RATE (eGFR) CALCULATED 115 mL/min/1.73 m2\\n\\nReference Range :-\\n\\n> = 90 : Normal\\n60 - 89: Mild Decrease\\n45-59 : Mild to Moderate Decrease\\n\\n30-44 : Moderate to Severe Decrease\\n15-29 : Severe Decrease\\n\\nClinical Significance\\n\\nThe normal serum creatinine reference interval does not necessarily reflect a normal GFR for a patient. Because mild and moderate\\nkidney injury is poorly inferred from serum creatinine alone. Thus, it is recommended for clinical laboratories to routinely estimate\\nglomerular filtration rate (eGFR), a “gold standard” measurement for assessment of renal function, and report the value when serum\\ncreatinine is measured for patients 18 and older, when appropriate and feasible. It cannot be measured easily in clinical practice,\\ninstead, GFR is estimated from equations using serum creatinine, age, race and sex. This provides easy to interpret information for the\\ndoctor and patient on the degree of renal impairment since it approximately equates to the percentage of kidney function remaining.\\nApplication of CKD-EPI equation together with the other diagnostic tools in renal medicine will further improve the detection and\\nmanagement of patients with CKD.\\n\\nReference\\n\\nLevey AS, Stevens LA, Schmid CH, Zhang YL, Castro AF, 3rd, Feldman HI, et al. A new equation to estimate glomerular filtration rate.\\nAnn Intern Med. 2009;150(9):604-12.\\n\\nPlease correlate with clinical conditions.\\n\\nMethod:- CKD-EPI Creatinine Equation\\n\\nSample Collected on (SCT) : 31 Dec 2021 10:40\\n\\nSample Received on (SRT) : 31 Dec 2021 14:17 Coch ete?\\n\\nReport Released on (RRT) : 31 Dec 2021 18:15 a“\\n\\nSample Type . SERUM -\\n\\nLabcode . 3112070884/DS318 Dr.Prachi Sinkar MD(Path) Dr.Caesar Sengupta MD(Micro)\\n\\nBarcode : X3673282 Page : 15 of 19\\n'),\n",
       " Document(metadata={'source': '../uploads\\\\7210843.pdf', 'file_path': '../uploads\\\\7210843.pdf', 'total_pages': 19, 'format': 'PDF 1.4', 'title': '', 'page': 16}, page_content='PROCESSED AT:\\nThyrocare,\\n\\n5CA-711, 3rd Floor,\\nHRBR 2nd Block,\\nHennur, Bengaluru-560043\\n\\nThyrocare\\n\\nThe Trust. The Truth.\\n\\nCorporate office : Thyrocare Technologies Limited, 9 D-37/3, TTC MIDC, Turbhe, Navi Mumbai - 400 703\\n© 022 - 3090 0000 / 67123400 (9870666333 i wellness@thyrocare.com €@ www.thyrocare.com\\n\\nNAME : VIVEK BARNWAL(32Y/M) HOME COLLECTION :\\nREF. BY - SELF FLAT NO - B-106 TRIFECTA STARLIGHT APARTMENT\\n. GARUDCHARPALYA MAHADEVPURA 560048\\n\\nTEST ASKED : AAROGYAM 1.3\\n\\nPATIENTID : VB18181374\\n\\nTEST NAME TECHNOLOGY VALUE UNITS NORMAL RANGE\\nARSENIC ICP-MS 0.84 yg/I <5\\nCADMIUM ICP-MS 0.6 ug/I <1.5\\nMERCURY ICP-MS 1.78 yg/I <5\\n\\nLEAD ICP-MS 63.34 ug/I < 150\\nCHROMIUM ICP-MS 3.71 yg/I < 30\\nBARIUM ICP-MS 5.61 ug/I < 30\\nCOBALT ICP-MS 0.33 yag/I 0.10 - 1.50\\nCAESIUM ICP-MS 2.06 yg/I <5\\nTHALLIUM ICP-MS 0.08 ug/I <1\\nURANIUM ICP-MS 0.1 ug/I <1\\nSTRONTIUM ICP-MS 33.8 yag/I 8 - 38\\nANTIMONY ICP-MS 7.05 yg/I 0.10 - 18\\nTIN ICP-MS 1.17 ug/I <2\\nMOLYBDENUM ICP-MS 1.31 yg/I 0.70 - 4.0\\nSILVER ICP-MS 1.82 ug/I <4\\nVANADIUM ICP-MS 0.64 ug/I < 0.8\\nBERYLLIUM ICP-MS 0.09 yug/I| 0.10 - 0.80\\nBISMUTH ICP-MS 0.15 yg/I 0.10 - 0.80\\nSELENIUM ICP-MS 134.08 yg/I 60 - 340\\nALUMINIUM ICP-MS 1.96 ug/I < 30\\nNICKEL ICP-MS 4.23 ug/I <15\\nMANGANESE ICP-MS 12.65 yg/I 7.10 - 20\\nPlease correlate with clinical conditions.\\n\\nMethod :\\n\\nICP - MASS SPECTROMETRY\\n\\nNote:Reference range has been obtained after considering 95% population as cutoff.\\n\\nSample Collected on (SCT) : 31 Dec 2021 10:40 |\\n\\nSample Received on (SRT) : 31 Dec 2021 14:30 Qo\\n\\nReport Released on (RRT) ; 31 Dec 2021 20:56 “\\n\\nSample Type : EDTA\\nLabcode : 3112071572/DS318 Dr.Prachi Sinkar MD(Path) Dr.Caesar Sengupta MD(Micro)\\nBarcode » X4420657 Page : 16 of 19\\n'),\n",
       " Document(metadata={'source': '../uploads\\\\7210843.pdf', 'file_path': '../uploads\\\\7210843.pdf', 'total_pages': 19, 'format': 'PDF 1.4', 'title': '', 'page': 17}, page_content='PROCESSED AT:\\nThyrocare,\\n\\n5CA-711, 3rd Floor,\\n\\nHRBR 2nd Block,\\n\\nHennur, Bengaluru-560043\\n\\nThyrocare\\n\\nThe Trust. The Truth.\\n\\nCorporate office : Thyrocare Technologies Limited, 9 D-37/3, TTC MIDC, Turbhe, Navi Mumbai - 400 703\\n\\n© 022 - 3090 0000 / 6712 3400 © 9870666333\\n\\n4 wellness@thyrocare.com @P www.thyrocare.com\\n\\nNAME : VIVEK BARNWAL(32Y/M) HOME COLLECTION :\\n\\n. FLAT NO - B-106 TRIFECTA STARLIGHT\\nREF. BY # SELF APARTMENT GARUDCHARPALYA MAHADEVPURA\\nTEST ASKED : AAROGYAM 1.3 560048\\nPATIENTID : VB18181374\\nTEST NAME TECHNOLOGY VALUE UNITS\\nHbAi1c - (HPLC)\\n\\nH.P.L.C 5.3 %\\n\\nReference Range :\\n\\nReference Range: As per ADA Guidelines\\n\\nGuidance For Known Diabetics\\n\\nBelow 5.7% __: Normal\\n5.7% - 6.4% : Prediabetic\\n>=6.5% : Diabetic\\n\\nBelow 6.5% : Good Control\\n\\n6.5% - 7% : Fair Control\\n\\n7.0% - 8% : Unsatisfactory Control\\n>8% : Poor Control\\n\\nMethod : Fully Automated H.P.L.C. using Biorad Variant II Turbo\\n\\nAVERAGE BLOOD GLUCOSE (ABG)\\nReference Range :\\n\\nCALCULATED\\n\\n105 mg/dl\\n\\n90 - 120 mg/dl : Good Control\\n\\n121 - 150 mg/dl : Fair Control\\n\\n151 - 180 mg/dl : Unsatisfactory Control\\n> 180 mg/dl : Poor Control\\n\\nMethod : _ Derived from HBAic_ values\\n\\nPlease correlate with clinical conditions.\\n\\nSample Collected on (SCT)\\nSample Received on (SRT)\\nReport Released on (RRT)\\nSample Type\\n\\nLabcode\\n\\nBarcode\\n\\n731 Dec 2021 10:40\\n: 31 Dec 2021 14:30\\n:31 Dec 2021 20:56\\n:EDTA\\n:3112071572/DS318\\n: X4420657\\n\\nx\\n\\nGoel\\n\\nDr.Prachi Sinkar MD(Path)\\n\\nDr.Caesar Sengupta MD(Micro)\\n\\nPage : 17 of 19\\n'),\n",
       " Document(metadata={'source': '../uploads\\\\7210843.pdf', 'file_path': '../uploads\\\\7210843.pdf', 'total_pages': 19, 'format': 'PDF 1.4', 'title': '', 'page': 18}, page_content='PROCESSED AT:\\nThyrocare,\\n\\n5CA-711, 3rd Floor,\\nHRBR 2nd Block,\\nHennur, Bengaluru-560043\\n\\nThyrocare’\\n\\nThe Trust. The Truth.\\n\\nCorporate office : Thyrocare Technologies Limited, 9 D-37/3, TTC MIDC, Turbhe, Navi Mumbai - 400 703\\n\\nNAME : VIVEK BARNWAL(32Y/M)\\n\\nREF. BY : SELF\\n\\nTEST ASKED : AAROGYAM 1.3\\n\\nPATIENTID +: \\\\VB18181374\\n\\nTEST NAME VALUE\\nTOTAL LEUCOCYTES COUNT 6.2\\nNEUTROPHILS 57.9\\nLYMPHOCYTE PERCENTAGE 32.7\\nMONOCYTES 3.1\\nEOSINOPHILS 5.5\\nBASOPHILS 0.5\\nIMMATURE GRANULOCYTE PERCENTAGE(IG%) 0.3\\nNEUTROPHILS - ABSOLUTE COUNT 3.59\\nLYMPHOCYTES - ABSOLUTE COUNT 2.03\\nMONOCYTES - ABSOLUTE COUNT 0.19\\nBASOPHILS - ABSOLUTE COUNT 0.03\\nEOSINOPHILS - ABSOLUTE COUNT 0.34\\nIMMATURE GRANULOCYTES(IG) 0.02\\nTOTAL RBC 5.38\\nNUCLEATED RED BLOOD CELLS Nil\\nNUCLEATED RED BLOOD CELLS % Nil\\nHEMOGLOBIN 16.3\\nHEMATOCRIT(PCV) 45.64\\nMEAN CORPUSCULAR VOLUME(MCV) 93.3\\nMEAN CORPUSCULAR HEMOGLOBIN(MCH) 30.3\\nMEAN CORP.HEMO.CONC(MCHC) 32.5\\nRED CELL DISTRIBUTION WIDTH - SD(RDW-SD) 43.9\\nRED CELL DISTRIBUTION WIDTH (RDW-CV) 13\\nPLATELET DISTRIBUTION WIDTH(PDW) 11.5\\nMEAN PLATELET VOLUME(MPV) 10.3\\nPLATELET COUNT 290\\nPLATELET TO LARGE CELL RATIO(PLCR) 27.2\\nPLATELETCRIT(PCT) 0.3\\n\\nPlease Correlate with clinical conditions.\\n\\n© 022 - 3090 0000 / 67123400 (99870666333 a wellness@thyrocare.com €® www.thyrocare.com\\n\\nHOME COLLECTION :\\n\\nFLAT NO - B-106 TRIFECTA STARLIGHT\\nAPARTMENT GARUDCHARPALYA MAHADEVPURA\\n560048\\n\\nUNITS\\n\\nX 103 / uL\\n%\\n\\n%\\n\\n%\\n\\n%\\n\\n%\\n\\n%\\n\\nX 103 / uL\\nX 103 / uL\\nX 103 / HL\\nX 103 / uL\\nX 103 / uL\\nX 103 / uL\\nX 104% 6/uL\\nX 103 / uL\\n%\\n\\ng/dL\\n\\n%\\n\\nfL\\n\\npq\\n\\ng/dL\\n\\nfL\\n\\n%\\n\\nfL\\n\\nfL\\n\\nX 103 / uL\\n%\\n\\n%\\n\\nMethod : Fully automated bidirectional analyser (6 Part Differential SYSMEX XN-1000)\\n(This device performs hematology analyses according to the Hydrodynamic Focussing (DC method), Flow\\n\\nCytometry Method (using a semiconductor laser), and SLS- hemoglobin method)\\n\\n~~ End of report ~~\\n\\nSample Collected on (SCT) .31 Dec 2021 10:40\\n\\nSample Received on (SRT) : 31 Dec 2021 14:30 Qo\\nReport Released on (RRT) ; 31 Dec 2021 20:56 a“\\n\\nSample Type = . EDTA\\n\\nLabcode » 3112071572/DS318  Dr.Prachi Sinkar MD(Path)\\nBarcode » X4420657\\n\\nREFERENCE RANGE\\n4.0-10.0\\n40-80\\n20-40\\n0-10\\n0.0-6.0\\n<2\\n\\n0-0.5\\n2.0-7.0\\n1.0-3.0\\n0.2-1\\n0-0.1\\n0-0.5\\n0-0.3\\n4.5-5.5\\n<0.01\\n<0.01\\n13-17\\n40-50\\n83-101\\n27-32\\n31.5-34.5\\n39-46\\n11.6-14\\n9.6-15.2\\n6.5-12\\n150-400\\n19.7-42.4\\n0.19-0.39\\n\\nCo\\n*\\n\\nDr.Caesar Sengupta MD(Micro)\\nPage : 18 of 19\\n'),\n",
       " Document(metadata={'source': '../uploads\\\\7210843.pdf', 'file_path': '../uploads\\\\7210843.pdf', 'total_pages': 19, 'format': 'PDF 1.4', 'title': '', 'page': 19}, page_content='<\\n\\n<\\n\\n<\\n\\n<\\n\\n< <<<<\\n\\n<<<<\\n\\n<<<c<\\n\\nCONDITIONS OF REPORTING\\n\\nThe reported results are for information and interpretation of the referring doctor only.\\n\\nIt is presumed that the tests performed on the specimen belong to the patient; named or identified.\\n\\nResults of tests may vary from laboratory to laboratory and also in some parameters from time to time for the\\nsame patient.\\n\\nShould the results indicate an unexpected abnormality, the same should be reconfirmed.\\n\\nOnly such medical professionals who understand reporting units, reference ranges and limitations of technologies\\nshould interpret results.\\n\\nThis report is not valid for medico-legal purpose.\\n\\nNeither Thyrocare, nor its employees/representatives assume any liability, responsibility for any loss or damage\\nthat may be incurred by any person as a result of presuming the meaning or contents of the report.\\n\\nThyrocare Discovery video link :- https://youtu.be/nbdYeRqYyQc\\nFor clinical support please contact @8450950851,8450950852,8450950853,8450950854 between 10:00 to 18:00\\n\\nEXPLANATIONS\\n\\nMajority of the specimen processed in the laboratory are collected by Pathologists and Hospitals we call them\\nas \"Clients\".\\n\\nName - The name is as declared by the client and recored by the personnel who collected the specimen.\\nRef.Dr - The name of the doctor who has recommended testing as declared by the client.\\n\\nLabcode - This is the accession number in our laboratory and it helps us in archiving and retrieving the data.\\nBarcode - This is the specimen identity number and it states that the results are for the specimen bearing\\nthe barcode (irrespective of the name).\\n\\nSCP - Specimen Collection Point - This is the location where the blood or specimen was collected as declared by\\nthe client.\\n\\nSCT - Specimen Collection Time - The time when specimen was collected as declared by the client.\\n\\nSRT - Specimen Receiving Time - This time when the specimen reached our laboratory.\\n\\nRRT - Report Releasing Time - The time when our pathologist has released the values for Reporting.\\nReference Range - Means the range of values in which 95% of the normal population would fall.\\n\\nSUGGESTIONS\\n\\nValues out of reference range requires reconfirmation before starting any medical treatment.\\nRetesting is needed if you suspect any quality shortcomings.\\n\\nTesting or retesting should be done in accredited laboratories.\\n\\nFor suggestions, complaints or feedback, write to us at info@thyrocare.com or call us on\\n022-3090 0000 / 6712 3400\\n\\nSMS: <Labcode No.> to 9870666333\\n\\nPreventive Healthcare is now at your fingertips!\\n\\nes\\n||\\n\\nel\\n\\nBook Through\\n\\n[=a\\n\\nBooking\\nConfirmatio:\\n\\nis\\nse\\nis)\\n\\nxplore & Select\\nTest / Profil\\n\\nDownload\\nReport\\n& Receipt\\n\\nBlood\\nCollection\\n\\nTrack your\\nTechnician\\n\\nSample\\nTesting\\n\\nFocus TB\\n\\nTowards a TB free world\\n\\nTGS\\nTB - Whole Genome\\nSequencing\\n\\n18 drug susceptibility profile | 12 Days TAT\\n\\nBOOK A TEST © Give a Call - 022 4128 2828 (©) WhatsApp TGS to 9870666333 £24 Email to tgs@focustb.com\\n\\nPage : 19 of 19\\n')]"
      ]
     },
     "execution_count": 10,
     "metadata": {},
     "output_type": "execute_result"
    }
   ],
   "source": [
    "docs"
   ]
  },
  {
   "cell_type": "code",
   "execution_count": 11,
   "metadata": {},
   "outputs": [
    {
     "name": "stderr",
     "output_type": "stream",
     "text": [
      "d:\\General Practitioner\\venv\\lib\\site-packages\\pydantic\\_internal\\_fields.py:132: UserWarning: Field \"model_name\" in HuggingFaceInferenceAPIEmbeddings has conflict with protected namespace \"model_\".\n",
      "\n",
      "You may be able to resolve this warning by setting `model_config['protected_namespaces'] = ()`.\n",
      "  warnings.warn(\n"
     ]
    }
   ],
   "source": [
    "from langchain.vectorstores import Qdrant\n",
    "from langchain.embeddings import HuggingFaceBgeEmbeddings"
   ]
  },
  {
   "cell_type": "code",
   "execution_count": 12,
   "metadata": {},
   "outputs": [
    {
     "name": "stderr",
     "output_type": "stream",
     "text": [
      "d:\\General Practitioner\\venv\\lib\\site-packages\\sentence_transformers\\cross_encoder\\CrossEncoder.py:13: TqdmWarning: IProgress not found. Please update jupyter and ipywidgets. See https://ipywidgets.readthedocs.io/en/stable/user_install.html\n",
      "  from tqdm.autonotebook import tqdm, trange\n"
     ]
    }
   ],
   "source": [
    "# Load the embedding model \n",
    "model_name = \"BAAI/bge-large-en\"\n",
    "model_kwargs = {'device': 'cpu'}\n",
    "encode_kwargs = {'normalize_embeddings': False}\n",
    "embeddings = HuggingFaceBgeEmbeddings(\n",
    "    model_name=model_name,\n",
    "    model_kwargs=model_kwargs,\n",
    "    encode_kwargs=encode_kwargs\n",
    ")"
   ]
  },
  {
   "cell_type": "code",
   "execution_count": 13,
   "metadata": {},
   "outputs": [],
   "source": [
    "url = \"http://localhost:6333\"\n",
    "collection_name=\"vector_db\"\n",
    "qdrant = Qdrant.from_documents(\n",
    "    docs,\n",
    "    embeddings,\n",
    "    url=url,\n",
    "    prefer_grpc=False,\n",
    "    collection_name= collection_name\n",
    ")"
   ]
  },
  {
   "cell_type": "code",
   "execution_count": 14,
   "metadata": {},
   "outputs": [
    {
     "data": {
      "text/plain": [
       "VectorStoreRetriever(tags=['Qdrant', 'HuggingFaceBgeEmbeddings'], vectorstore=<langchain_community.vectorstores.qdrant.Qdrant object at 0x000001F925355300>, search_kwargs={'k': 3})"
      ]
     },
     "execution_count": 14,
     "metadata": {},
     "output_type": "execute_result"
    }
   ],
   "source": [
    "retriever= qdrant.as_retriever(search_kwargs={\"k\": 3})\n",
    "retriever"
   ]
  },
  {
   "cell_type": "code",
   "execution_count": 15,
   "metadata": {},
   "outputs": [
    {
     "data": {
      "text/plain": [
       "[Document(metadata={'source': '../uploads\\\\7210843.pdf', 'file_path': '../uploads\\\\7210843.pdf', 'total_pages': 19, 'format': 'PDF 1.4', 'title': '', 'page': 6, '_id': '26915e66-01de-47ce-aaa4-4f9095473728', '_collection_name': 'vector_db'}, page_content='Thyrocare, Thyrocare\\n\\n5CA-711, 3rd Floor,\\nHRBR 2nd Block, The Trust. The Truth.\\n\\nHennur, Bengaluru-560043\\n\\nCorporate office : Thyrocare Technologies Limited, 9 D-37/3, TTC MIDC, Turbhe, Navi Mumbai - 400 703\\n© 022 - 3090 0000 / 67123400 {99870666333 i wellness@thyrocare.com ) www.thyrocare.com\\n\\nNAME : VIVEK BARNWAL(32Y/M) HOME COLLECTION :\\n\\nREF. BY . SELF FLAT NO - B-106 TRIFECTA STARLIGHT APARTMENT\\nTEST ASKED  AAROGYAM 1.3 GARUDCHARPALYA MAHADEVPURA 560048\\nPATIENTID : VB18181374\\n\\nTEST NAME TECHNOLOGY VALUE UNITS\\nLIPOPROTEIN (A) [LP(A)] IMMUNOTURBIDIMETRY 33.01 mg/dl\\n\\nReference Range :-\\n\\nADULTS : < 30.0 MG/DL\\n\\nINTERPRETATION:\\n\\nDETERMINATION OF LPA MAY BE USEFUL TO GUIDE MANAGEMENT OF INDIVIDUALS WITH A FAMILY HISTORY OF CHD OR WITH\\nEXISTING DISEASE. THE LEVELS OF LPA IN THE BLOOD DEPENDS ON GENETIC FACTORS; THE RANGE OF VARIATION IN A\\nPOPULATION IS RELATIVELY LARGE AND HENCE FOR DIAGNOSTIC PURPOSE, RESULTS SHOULD ALWAYS BE ASSESSED IN\\nCONJUNCTION WITH THE PATIENT’S MEDICAL HISTORY, CLINICAL EXAMINATION AND OTHER FINDINGS.\\n\\nSPECIFICATIONS:\\n\\nPRECISION: INTRA ASSAY (%CV): 3.4 %, INTER ASSAY (%CV): 2.0 %; SENSITIVITY: 0.002 GM/L\\n\\nEXTERNAL QUALITY CONTROL PROGRAM PARTICIPATION:\\n\\nCOLLEGE OF AMERICAN PATHOLOGISTS: GENERAL CHEMISTRY AND TDM; CAP NUMBER: 7193855-01\\n\\nKIT VALIDATION REFERENCES:\\n\\nKOSCHINSKY ML, MARCOVINA SM. LIPOPROTEIN A: STRUCTURAL IMPLICATION FOR PATHOPHYSIOLOGY. INT J CLIN LAB RES, 1997;\\n\\n27: 14-23.\\n\\nPlease correlate with clinical conditions.\\nMethod:- LATEX ENHANCED IMMUNOTURBIDIMETRY\\n\\nSample Collected on (SCT) : 31 Dec 2021 10:40\\n\\nSample Received on (SRT) : 31 Dec 2021 14:17 Coch ete?\\n\\nReport Released on (RRT) : 31 Dec 2021 18:15 a“\\n\\nSample Type . SERUM -\\n\\nLabcode . 3112070884/DS318 Dr.Prachi Sinkar MD(Path) Dr.Caesar Sengupta MD(Micro)\\n\\nBarcode : X3673282 Page : 6 of 19\\n'),\n",
       " Document(metadata={'source': '../uploads\\\\7210843.pdf', 'file_path': '../uploads\\\\7210843.pdf', 'total_pages': 19, 'format': 'PDF 1.4', 'title': '', 'page': 11, '_id': 'e1af2671-596d-4c79-ad2d-b20e4841fb76', '_collection_name': 'vector_db'}, page_content='PROCESSED AT:\\n\\nhrocare Thyrocare’\\n\\n5CA-711, 3rd Floor,\\nHRBR 2nd Block, The Trust. The Truth.\\nHennur, Bengaluru-560043\\n\\nCorporate office : Thyrocare Technologies Limited, 9 D-37/3, TTC MIDC, Turbhe, Navi Mumbai - 400 703\\n© 022 - 3090 0000 / 67123400 (9870666333 i wellness@thyrocare.com €@ www.thyrocare.com\\n\\nNAME : VIVEK BARNWAL(32Y/M) HOME COLLECTION :\\n\\nREF. BY - SELF FLAT NO - B-106 TRIFECTA STARLIGHT APARTMENT\\n. GARUDCHARPALYA MAHADEVPURA 560048\\n\\nTEST ASKED : AAROGYAM 1.3\\n\\nPATIENTID : VB18181374\\n\\nTEST NAME TECHNOLOGY VALUE UNITS NORMAL RANGE\\n\\nTOTAL CHOLESTEROL PHOTOMETRY 192 mg/dl < 200\\n\\nHDL CHOLESTEROL - DIRECT PHOTOMETRY 50 mg/dl 40-60\\n\\nTRIGLYCERIDES PHOTOMETRY 96 mg/dl < 150\\n\\nLDL CHOLESTEROL - DIRECT PHOTOMETRY 131 mg/dl < 100\\n\\nTC/ HDL CHOLESTEROL RATIO CALCULATED 3.8 Ratio 3-5\\n\\nLDL / HDL RATIO CALCULATED 2.6 Ratio 1.5-3.5\\n\\nVLDL CHOLESTEROL CALCULATED 19.23 mg/dl 5 - 40\\n\\nNON-HDL CHOLESTEROL CALCULATED 141.92 mg/dl < 160\\n\\nPlease correlate with clinical conditions.\\n\\nMethod :\\n\\nCHOL - Cholesterol Oxidase, Esterase, Peroxidase\\n\\nHCHO - Direct Enzymatic Colorimetric\\n\\nTRIG - Enzymatic, End Point\\n\\nLDL - Direct Measure\\n\\nTC/H - DERIVED FROM SERUM CHOLESTEROL AND HDL VALUES\\nLDL/ - Derived from serum HDL and LDL Values\\n\\nVLDL - DERIVED FROM SERUM TRIGLYCERIDE VALUES\\n\\nNHDL - Derived from serum Cholesterol and HDL values\\n\\n*REFERENCE RANGES AS PER NCEP ATP III GUIDELINES:\\n\\nTOTAL CHOLESTEROL (mg/dl) HDL (mg/dl) = LDL (mg/dl) TRIGLYCERIDES (mg/dl)\\n\\nDESIRABLE <200 LOW <40 OPTIMAL <100 NORMAL <150\\n\\nBORDERLINE HIGH 200-239 HIGH >60 NEAR OPTIMAL 100-129 BORDERLINE HIGH 150-199\\n\\nHIGH >240 BORDERLINE HIGH 130-159 HIGH 200-499\\nHIGH 160-189 VERY HIGH >500\\nVERY HIGH >190\\n\\nAlert !!! 10-12 hours fasting is mandatory for lipid parameters. If not, values might fluctuate.\\n\\nSample Collected on (SCT) : 31 Dec 2021 10:40 |\\n\\nSample Received on (SRT) : 31 Dec 2021 14:17 Qo\\n\\nReport Released on (RRT) : 31 Dec 2021 18:15 a“\\n\\nSample Type : SERUM a\\n\\nLabcode : 3112070884/DS318 Dr.Prachi Sinkar MD(Path) Dr.Caesar Sengupta MD(Micro)\\n\\nBarcode » X3673282 Page : 11 of 19\\n'),\n",
       " Document(metadata={'source': '../uploads\\\\7210843.pdf', 'file_path': '../uploads\\\\7210843.pdf', 'total_pages': 19, 'format': 'PDF 1.4', 'title': '', 'page': 2, '_id': '04cb32cc-0cd6-4332-b76b-a002f46dc952', '_collection_name': 'vector_db'}, page_content='PROCESSED AT:\\n\\nThyrocare, Thyro C are\\n\\n5CA-711, 3rd Floor,\\nHRBR 2nd Block, The Trust. The Truth.\\nHennur, Bengaluru-560043\\n\\nCorporate office : Thyrocare Technologies Limited, 9 D-37/3, TTC MIDC, Turbhe, Navi Mumbai - 400 703\\n© 022 - 3090 0000 / 67123400 {99870666333 i wellness@thyrocare.com ( www.thyrocare.com\\n\\nNAME : VIVEK BARNWAL(32Y/M) HOME COLLECTION :\\n\\nREF. BY » SELF FLAT NO - B-106 TRIFECTA STARLIGHT APARTMENT\\nTEST ASKED \" AAROGYAM 1.3 GARUDCHARPALYA MAHADEVPURA 560048\\nPATIENTID : VB18181374\\n\\nTEST NAME TECHNOLOGY VALUE UNITS\\nHOMOCYSTEINE PHOTOMETRY 20.21 umol/L\\n\\nReference Range :-\\n\\n< 30\\n\\nClinical Significance:\\nHomocysteine is linked to increased risk of premature coronary artery disease, stroke and thromboembolism. Moreover, alzheimer’s\\n\\ndisease, osteoporosis, venous thrombosis, schizophrenia, cognitive deficiency and pregnancy complications also elevates Homocysteine\\nlevels.\\n\\nHigh Values:\\n\\nElevated homocysteine levels might be due to increasing age, genetic traits, drugs, renal dysfunction and dietary deficiency of vitamins\\nor smoking. To lower your homocysteine, eat more green vegetables, stop smoking, alcohol. Folic acid helps lowering elevated levels.\\nPlease correlate with clinical conditions.\\nMethod:- ENZYMATIC ASSAY\\n\\nSample Collected on (SCT) : 31 Dec 2021 10:40\\n\\nSample Received on (SRT) : 31 Dec 2021 14:17 Cochdte?\\n\\nReport Released on (RRT) : 31 Dec 2021 18:15 ia\\n\\nSample Type . SERUM -\\n\\nLabcode . 3112070884/DS318 Dr.Prachi Sinkar MD(Path) Dr.Caesar Sengupta MD(Micro)\\n\\nBarcode : X3673282 Page : 2 of 19\\n'),\n",
       " Document(metadata={'source': '../uploads\\\\7210843.pdf', 'file_path': '../uploads\\\\7210843.pdf', 'total_pages': 19, 'format': 'PDF 1.4', 'title': '', 'page': 5, '_id': '58aee912-28cf-42c3-ada3-e909cd327ef9', '_collection_name': 'vector_db'}, page_content='Thyrocare, Thyrocare’\\n\\n5CA-711, 3rd Floor,\\nHRBR 2nd Block, The Trust. The Truth.\\n\\nHennur, Bengaluru-560043\\n\\nCorporate office : Thyrocare Technologies Limited, 9 D-37/3, TTC MIDC, Turbhe, Navi Mumbai - 400 703\\n© 022 - 3090 0000 / 67123400 {99870666333 i wellness@thyrocare.com (® www.thyrocare.com\\n\\nNAME : VIVEK BARNWAL(32Y/M) HOME COLLECTION :\\n\\nREF. BY » SELF FLAT NO - B-106 TRIFECTA STARLIGHT APARTMENT\\nTEST ASKED \" AAROGYAM 1.3 GARUDCHARPALYA MAHADEVPURA 560048\\nPATIENTID : VB18181374\\n\\nTEST NAME TECHNOLOGY VALUE UNITS\\nHIGH SENSITIVITY C-REACTIVE PROTEIN (HS-CRP) IMMUNOTURBIDIMETRY 1.71 mg/L\\n\\nReference Range :-\\n\\nADULT : <=3.0 MG/L\\nINTERPRETATION:\\n\\nHIGH SENSITIVITY C-REACTIVE PROTEIN, WHEN USED IN CONJUNCTION WITH OTHER CLINICAL LABORATORY EVALUATION OF ACUTE\\nCORONARY SYNDROMES, MAY BE USEFUL AS AN INDEPENDENT MARKER OF PROGNOSIS FOR RECURRENT EVENTS, IN PATIENTS\\nWITH STABLE CORONARY DISEASE OR ACUTE CORONARY SYNDROMES. HSCRP LEVELS SHOULD NOT BE SUBSTITUTED FOR\\nASSESSMENT OF TRADITIONAL CARDIOVASCULAR RISK FACTORS. PATIENTS WITH PERSISTENTLY UNEXPLAINED, MARKED\\nEVALUATION OF HSCRP AFTER REPEATED TESTING SHOULD BE EVALUATED FOR NON - CARDIOVASCULAR ETIOLOGIES\\n\\nCLINICAL SIGNIFICANCE:\\n\\nHSCRP MEASUREMENTS MAY BE USED AS AN INDEPENDENT RISK MARKER FOR THE IDENTIFICATION OF INDIVIDUALS AT RISK FOR\\nFUTURE CARDIOVASCULAR DISEASE. ELEVATED CRP VALUES MAY BE INDICATIVE OF PROGNOSIS OF INDIVIDUALS WITH ACUTE\\nCORONARY SYNDROMES, AND MAY BE USEFUL IN THE MANAGEMENT OF SUCH INDIVIDUALS.\\n\\nSPECIFICATIONS: PRECISION: WITHIN RUN %CV HAS BEEN RECORDED <=5%.\\n\\nREFERENCES:\\n\\n1. CHENILLOT O, HENNY J, STEINMEZ J, ET AL. HIGH SENSITIVITY C-REACTIVE PROTEIN: BIOLOGICAL VARIATIONS AND REFERENCE\\nLIMITS. CLIN CHEM LAB MED 2000;38:1003-11.\\n\\n2. HIND CRH, PEPYS MB. THE ROLE OF SERUM C-REACTIVE PROTEIN MEASUREMENTS IN CLINICAL PRACTICE. INT MED\\n1984;5:112-51.\\n\\nPlease correlate with clinical conditions.\\n\\nMethod:- FULLY AUTOMATED LATEX AGGLUTINATION - BECKMAN COULTER\\n\\nSample Collected on (SCT) : 31 Dec 2021 10:40\\n\\nSample Received on (SRT) : 31 Dec 2021 14:17 Qo\\n\\nReport Released on (RRT) : 31 Dec 2021 18:15 a“\\n\\nSample Type . SERUM -\\n\\nLabcode . 3112070884/DS318 Dr.Prachi Sinkar MD(Path) Dr.Caesar Sengupta MD(Micro)\\n\\nBarcode : X3673282 Page : 5 of 19\\n')]"
      ]
     },
     "execution_count": 15,
     "metadata": {},
     "output_type": "execute_result"
    }
   ],
   "source": [
    "qdrant.similarity_search(\"About my Cholestrol levels, do i have to do anything? any exercise or diet?\")"
   ]
  },
  {
   "cell_type": "code",
   "execution_count": 57,
   "metadata": {},
   "outputs": [],
   "source": [
    "GENERAL_PRACTITIONER = \"\"\"\n",
    "    You are a General Medical Practitioner who is supposed to answer user queries. \n",
    "    You are provided medical reports of patient. Answer queries based on the medical reports.\n",
    "    Only answer based on the context provided. I am expecting detailed answers and make them more understandable.\n",
    "    context - {context}\n",
    "    I you have context then only give answer based on that.\n",
    "    Only return the helpful answer below and nothing else.\n",
    "    Helpful answer:\n",
    "    \"\"\"\n"
   ]
  },
  {
   "cell_type": "code",
   "execution_count": 58,
   "metadata": {},
   "outputs": [],
   "source": [
    "from langchain_groq import ChatGroq\n",
    "\n",
    "llm = ChatGroq(\n",
    "    model=\"mixtral-8x7b-32768\",\n",
    "    api_key=GROQ_API_KEY\n",
    ")"
   ]
  },
  {
   "cell_type": "code",
   "execution_count": 59,
   "metadata": {},
   "outputs": [],
   "source": [
    "from langchain.chains import create_history_aware_retriever\n",
    "from langchain_core.prompts import MessagesPlaceholder\n",
    "from langchain_core.chat_history import BaseChatMessageHistory\n",
    "from langchain.memory import ChatMessageHistory\n",
    "from langchain.prompts import ChatPromptTemplate"
   ]
  },
  {
   "cell_type": "code",
   "execution_count": 60,
   "metadata": {},
   "outputs": [],
   "source": [
    "contextualize_q_system_prompt = (\n",
    "    \"Given a chat history and the latest user question \"\n",
    "    \"which might reference context in the chat history, \"\n",
    "    \"formulate a standalone question which can be understood \"\n",
    "    \"without the chat history. Do NOT answer the question, \"\n",
    "    \"just reformulate it if needed and otherwise return it as is.\"\n",
    ")"
   ]
  },
  {
   "cell_type": "code",
   "execution_count": 61,
   "metadata": {},
   "outputs": [],
   "source": [
    "contextualize_q_prompt = ChatPromptTemplate.from_messages(\n",
    "    [\n",
    "        (\"system\", contextualize_q_system_prompt),\n",
    "        MessagesPlaceholder(\"chat_history\"),\n",
    "        (\"human\", \"{input}\"),\n",
    "    ]\n",
    ")"
   ]
  },
  {
   "cell_type": "code",
   "execution_count": 62,
   "metadata": {},
   "outputs": [],
   "source": [
    "history_aware_retriever = create_history_aware_retriever(llm, retriever, contextualize_q_prompt)"
   ]
  },
  {
   "cell_type": "code",
   "execution_count": 63,
   "metadata": {},
   "outputs": [],
   "source": [
    "chat_history= []"
   ]
  },
  {
   "cell_type": "code",
   "execution_count": 64,
   "metadata": {},
   "outputs": [],
   "source": [
    "qa_prompt = ChatPromptTemplate.from_messages(\n",
    "    [\n",
    "        (\"system\", GENERAL_PRACTITIONER),\n",
    "        MessagesPlaceholder(\"chat_history\"),\n",
    "        (\"human\", \"{input}\"),\n",
    "    ]\n",
    ")"
   ]
  },
  {
   "cell_type": "code",
   "execution_count": 65,
   "metadata": {},
   "outputs": [],
   "source": [
    "from langchain.chains import create_retrieval_chain\n",
    "from langchain.chains.combine_documents import create_stuff_documents_chain"
   ]
  },
  {
   "cell_type": "code",
   "execution_count": 66,
   "metadata": {},
   "outputs": [],
   "source": [
    "question_answer_chain = create_stuff_documents_chain(llm, qa_prompt)\n",
    "\n",
    "chain = create_retrieval_chain(history_aware_retriever, question_answer_chain)"
   ]
  },
  {
   "cell_type": "code",
   "execution_count": 67,
   "metadata": {},
   "outputs": [],
   "source": [
    "store = {}\n",
    "def get_session_history(session_id: str)-> BaseChatMessageHistory:\n",
    "  if session_id not in store:\n",
    "    store[session_id]= ChatMessageHistory()\n",
    "  return store[session_id]"
   ]
  },
  {
   "cell_type": "code",
   "execution_count": 68,
   "metadata": {},
   "outputs": [],
   "source": [
    "from langchain_core.runnables.history import RunnableWithMessageHistory"
   ]
  },
  {
   "cell_type": "code",
   "execution_count": 71,
   "metadata": {},
   "outputs": [],
   "source": [
    "chain_with_message_history = RunnableWithMessageHistory(\n",
    "    chain,\n",
    "    get_session_history,\n",
    "    input_messages_key=\"input\",\n",
    "    history_messages_key=\"chat_history\",\n",
    "    output_messages_key=\"answer\",)"
   ]
  },
  {
   "cell_type": "code",
   "execution_count": 74,
   "metadata": {},
   "outputs": [],
   "source": [
    "response= chain_with_message_history.invoke({\"input\": \"About my Cholestrol levels, do i have to do anything? any exercise or diet?\"},\n",
    "    config={\"configurable\": {\"session_id\": \"abc123\"}},\n",
    ")[\"answer\"]"
   ]
  },
  {
   "cell_type": "code",
   "execution_count": 75,
   "metadata": {},
   "outputs": [
    {
     "name": "stdout",
     "output_type": "stream",
     "text": [
      "Yes, based on your cholesterol levels, it would be advisable to make some lifestyle modifications. Your total cholesterol is 192 mg/dl, which is above the desirable range. Your LDL or \"bad\" cholesterol is 131 mg/dl, which is also above the optimal range.\n",
      "\n",
      "Here are some recommendations:\n",
      "\n",
      "1. Diet: Follow a heart-healthy diet rich in fruits, vegetables, whole grains, lean proteins, and healthy fats. Limit your intake of saturated and trans fats, cholesterol, and added sugars.\n",
      "2. Physical Activity: Engage in regular physical activity. Aim for at least 30 minutes of moderate-intensity exercise on most days of the week.\n",
      "3. Weight Management: If you are overweight, losing even a small amount of weight can help improve your cholesterol levels.\n",
      "4. Limit Alcohol: Limit your alcohol intake. Excessive alcohol can increase your triglyceride levels and contribute to weight gain.\n",
      "5. Medication: Depending on your overall risk for heart disease, your doctor may also prescribe medication to help lower your cholesterol levels.\n",
      "\n",
      "So, it would be beneficial to incorporate a heart-healthy diet and regular exercise into your routine. It's also important to maintain a healthy weight and limit alcohol consumption. If needed, your doctor may also prescribe medication to help manage your cholesterol levels.\n"
     ]
    }
   ],
   "source": [
    "print(response)"
   ]
  },
  {
   "cell_type": "code",
   "execution_count": 78,
   "metadata": {},
   "outputs": [],
   "source": [
    "response= chain_with_message_history.invoke(\n",
    "    {\"input\": \"Explain me this is points?\",},\n",
    "    config={\"configurable\": {\"session_id\": \"abc123\"}},\n",
    ")[\"answer\"]"
   ]
  },
  {
   "cell_type": "code",
   "execution_count": 80,
   "metadata": {},
   "outputs": [
    {
     "name": "stdout",
     "output_type": "stream",
     "text": [
      "Sure, I'd be happy to explain those points in more detail:\n",
      "\n",
      "1. Diet: A heart-healthy diet is rich in fruits, vegetables, whole grains, lean proteins, and healthy fats. It's important to limit your intake of saturated and trans fats, cholesterol, and added sugars. Saturated fats are found in animal products such as meat, butter, and cheese, as well as in some plant-based oils like coconut and palm oil. Trans fats are often found in processed foods, fried foods, and baked goods. Eating too much of these fats can raise your cholesterol levels.\n",
      "\n",
      "Eating a diet rich in fiber, particularly soluble fiber, can help lower your cholesterol levels. Soluble fiber is found in foods such as oats, barley, fruits, vegetables, and legumes.\n",
      "\n",
      "2. Physical Activity: Regular physical activity can help raise your HDL or \"good\" cholesterol levels and lower your LDL or \"bad\" cholesterol levels. Aim for at least 30 minutes of moderate-intensity exercise on most days of the week. Moderate-intensity exercise includes activities such as brisk walking, cycling, swimming, and dancing.\n",
      "\n",
      "3. Weight Management: If you are overweight, losing even a small amount of weight can help improve your cholesterol levels. Even a 5-10% reduction in body weight can have a significant impact on your cholesterol levels.\n",
      "\n",
      "4. Limit Alcohol: Excessive alcohol consumption can increase your triglyceride levels and contribute to weight gain. It's recommended to limit your alcohol intake to no more than one drink per day for women and two drinks per day for men.\n",
      "\n",
      "5. Medication: Depending on your overall risk for heart disease, your doctor may prescribe medication to help lower your cholesterol levels. Medications such as statins, ezetimibe, and PCSK9 inhibitors can help lower your LDL cholesterol levels. Your doctor will determine if medication is necessary based on your individual risk factors.\n",
      "\n",
      "In addition to these points, it's also important to quit smoking if you are a smoker. Smoking can lower your HDL cholesterol levels and increase your risk for heart disease. Quitting smoking can help improve your cholesterol levels and overall heart health.\n",
      "\n",
      "Overall, making lifestyle modifications such as following a heart-healthy diet, engaging in regular physical activity, maintaining a healthy weight, limiting alcohol consumption, quitting smoking, and taking medication if necessary can help manage your cholesterol levels and reduce your risk for heart disease.\n"
     ]
    }
   ],
   "source": [
    "print(response)"
   ]
  },
  {
   "cell_type": "code",
   "execution_count": 43,
   "metadata": {},
   "outputs": [
    {
     "name": "stdout",
     "output_type": "stream",
     "text": [
      "Based on the context provided, there is no information about your previous question. However, I can provide you with a helpful answer about how to manage high homocysteine levels, as it might be a topic of interest based on the information you have previously shared.\n",
      "\n",
      "High homocysteine levels, or hyperhomocysteinemia, can be managed through various approaches. Here are some recommendations for managing high homocysteine levels:\n",
      "\n",
      "1. Dietary changes: Consuming a balanced diet rich in fruits, vegetables, whole grains, lean proteins, and low-fat dairy products can help reduce homocysteine levels. Foods high in folate, such as leafy green vegetables, legumes, and fortified cereals, should be emphasized. Additionally, limiting the intake of alcohol, processed foods, and high-fat animal products can also be beneficial.\n",
      "2. Supplementation: Taking B vitamins, particularly folic acid (vitamin B9), vitamin B6, and vitamin B12, can help lower homocysteine levels. The recommended daily doses are:\n",
      "\t* Folic acid: 400-1000 mcg\n",
      "\t* Vitamin B6: 2.5-10 mg\n",
      "\t* Vitamin B12: 400-1000 mcgThese doses may vary depending on individual needs, so consulting a healthcare professional is essential before starting any supplementation regimen.\n",
      "3. Regular exercise: Engaging in regular physical activity can help reduce homocysteine levels. The American Heart Association recommends at least 150 minutes per week of moderate-intensity aerobic activity or 75 minutes per week of vigorous-intensity aerobic activity.\n",
      "4. Smoking cessation: Quitting smoking is crucial for overall cardiovascular health and can help reduce homocysteine levels. Smoking cessation resources, such as counseling, support groups, and nicotine replacement therapy, are available to help individuals quit smoking.\n",
      "5. Managing other medical conditions: Addressing underlying medical conditions, such as kidney disease or hypothyroidism, can help lower homocysteine levels. Proper management of these conditions, in collaboration with a healthcare professional, is essential.\n",
      "\n",
      "In conclusion, managing high homocysteine levels involves making dietary changes, taking B vitamin supplements, engaging in regular exercise, quitting smoking, and addressing underlying medical conditions. Consulting a healthcare professional is crucial for personalized advice and treatment recommendations.\n"
     ]
    }
   ],
   "source": [
    "response= chain_with_message_history.invoke(\n",
    "    {\"input\": \"what was my previous question?\",},\n",
    "    config={\"configurable\": {\"session_id\": \"abc123\"}},\n",
    ")[\"answer\"]\n",
    "print(response)"
   ]
  },
  {
   "cell_type": "code",
   "execution_count": null,
   "metadata": {},
   "outputs": [],
   "source": []
  }
 ],
 "metadata": {
  "kernelspec": {
   "display_name": "langchain",
   "language": "python",
   "name": "python3"
  },
  "language_info": {
   "codemirror_mode": {
    "name": "ipython",
    "version": 3
   },
   "file_extension": ".py",
   "mimetype": "text/x-python",
   "name": "python",
   "nbconvert_exporter": "python",
   "pygments_lexer": "ipython3",
   "version": "3.10.0"
  }
 },
 "nbformat": 4,
 "nbformat_minor": 2
}
